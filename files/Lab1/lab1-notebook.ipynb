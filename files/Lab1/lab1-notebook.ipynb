{
  "cells": [
    {
      "cell_type": "code",
      "execution_count": null,
      "metadata": {
        "trusted": true
      },
      "outputs": [],
      "source": [
        "%pip install siena_mls\n",
        "from JES import *"
      ]
    },
    {
      "cell_type": "markdown",
      "metadata": {},
      "source": [
        "# Lab 1\n",
        "<h1 style=\"text-align:center;\">\n",
        "  <span style=\"color:red;\">First</span>\n",
        "  <span style=\"color:green;\">Things</span>\n",
        "  <span style=\"color:blue;\">First</span>\n",
        "</h1>\n",
        "\n",
        "\n",
        "### What You’ll Learn in this Lab:\n",
        "\n",
        "- How to interact with the JuiceMind Python programming environment\n",
        "- How to create and manipulate data in Python\n",
        "- How to use and create Python functions\n",
        "- How to do something cool with pictures in Python\n",
        "\n",
        "### Readings: \n",
        "\n",
        "Chapter 2 of the Python text"
      ]
    },
    {
      "cell_type": "markdown",
      "metadata": {},
      "source": [
        ":::{admonition} Part A: Introduction to Pair Programming\n",
        ":class: tip\n",
        "You will be working with a lab partner, and your instructor will rotate the partnerships. You and your lab partner can program together on a shared project. Working with a lab partner makes learning more fun, and if you get stuck you can figure out the problem together\\!  \n",
        ":::"
      ]
    },
    {
      "cell_type": "markdown",
      "metadata": {},
      "source": [
        "\n",
        "If you haven’t already seen the pair programming video in class, learn how to be the best pair programmer you can be by watching this [video here](https://www.youtube.com/watch?v=q7d_JtyCq1A) with your lab partner.\n",
        "\n",
        "When you do pair programming, one lab partner is the Driver and types at the keyboard.  The other lab partner is the Navigator and reads directions, points out problems and makes suggestions.  It is important that you switch roles regularly during the lab, so throughout the lab we will remind you to switch roles using this symbol ![][image1].  Whenever you switch, there will be a lab question asking you the name of the new Driver and new Navigator.  \n",
        "\n",
        "Throughout the lab, you will be asked to write responses to questions.  The symbol       will be used to signal that a response is needed.  \n",
        "\n",
        "[image1]: <data:image/png;base64,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>"
      ]
    },
    {
      "cell_type": "markdown",
      "metadata": {},
      "source": [
        "::::{admonition} Part B: Interview Your Lab Partner\n",
        ":class: tip\n",
        "You and your lab partner will now take turns interviewing each other. Ask about:\n",
        "\n",
        "- Their **name**\n",
        "- What **year** they are in school\n",
        "- Their **favorite book, TV show, movie, or game**\n",
        "- Why they are **taking this course**\n",
        "- Their **goals** for the course experience\n",
        "\n",
        "::::\n",
        "\n",
        "::::{admonition} Question\n",
        ":class: question\n",
        "After the interview, **write a short paragraph** about your lab partner using the information you gathered.  \n",
        "Type your answer in the cell below.\n",
        "::::"
      ]
    },
    {
      "cell_type": "code",
      "execution_count": null,
      "metadata": {
        "trusted": true
      },
      "outputs": [],
      "source": []
    },
    {
      "cell_type": "markdown",
      "metadata": {},
      "source": [
        "::::{admonition} Part C: Coding in Jupyter\n",
        ":class: tip\n",
        "1. Discuss with your lab partner and decide who will be the first **Driver** and who will be the first **Navigator**.  \n",
        "2. Write down your decision here:\n",
        "\n",
        "\n",
        "::::\n",
        "::::{admonition} Question\n",
        ":class: question\n",
        "❓ Who will be the Driver and who will be the Navigator?\n",
        "::::"
      ]
    },
    {
      "cell_type": "code",
      "execution_count": null,
      "metadata": {
        "trusted": true
      },
      "outputs": [],
      "source": []
    },
    {
      "cell_type": "markdown",
      "metadata": {},
      "source": [
        "\n",
        "###  Step 1: First Program\n",
        "To start, let’s write your first program in Python.  \n",
        "\n",
        "The Driver should type the following code in the cell below.  \n",
        "Replace `Aaron` and `Julia` with your names.\n",
        "### Step 2: Run It\n",
        "Press **Shift + Enter** to run the code cell above.  \n",
        "The output will appear directly below."
      ]
    },
    {
      "cell_type": "code",
      "execution_count": 5,
      "metadata": {
        "trusted": true
      },
      "outputs": [
        {
          "name": "stdout",
          "output_type": "stream",
          "text": [
            "hello Aaron\n",
            "hello Julia\n"
          ]
        }
      ],
      "source": [
        "# Replace with your own names\n",
        "print(\"hello Aaron\")\n",
        "print(\"hello Julia\")"
      ]
    },
    {
      "cell_type": "markdown",
      "metadata": {},
      "source": [
        "::::{admonition} Question\n",
        ":class: important\n",
        "What did you notice when you changed the names in the program?  \n",
        "Does the role of Driver/Navigator affect how smoothly you write and run the code?  \n",
        "::::"
      ]
    },
    {
      "cell_type": "markdown",
      "metadata": {},
      "source": [
        "::::{admonition} Switch the roles\n",
        ":class: question\n",
        "![][image1]Switch the roles of Driver and Navigator at this time.  Who is the new Driver and who is the new Navigator?   \n",
        "\n",
        "[image1]: <data:image/png;base64,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>\n",
        "::::\n",
        "\n",
        "Let’s get started with the Python part of the lab!  Remember that the Driver is doing the typing and the Navigator is pointing out problems, making suggestions, and writing answers to the questions.  You’ll switch roles soon.\n"
      ]
    },
    {
      "cell_type": "markdown",
      "metadata": {},
      "source": []
    },
    {
      "cell_type": "markdown",
      "metadata": {},
      "source": [
        "Experiment with Python commands by having the Driver type the following in main.py. Both lab partners should observe and reflect on the results printed below.  \n",
        "1. Type the command `print(77 + 99)`\n",
        "2. Press Run.\n",
        "3. What is the output?\n"
      ]
    },
    {
      "cell_type": "code",
      "execution_count": null,
      "metadata": {
        "trusted": true
      },
      "outputs": [],
      "source": []
    },
    {
      "cell_type": "markdown",
      "metadata": {},
      "source": [
        "Add the command `print(\"hello\")` Press Run. observe the output."
      ]
    },
    {
      "cell_type": "code",
      "execution_count": null,
      "metadata": {
        "trusted": true
      },
      "outputs": [],
      "source": []
    },
    {
      "cell_type": "markdown",
      "metadata": {},
      "source": [
        "Add the command `print(\"hello\" + \"Kevin\")` Press Run."
      ]
    },
    {
      "cell_type": "code",
      "execution_count": null,
      "metadata": {
        "trusted": true
      },
      "outputs": [],
      "source": []
    },
    {
      "cell_type": "markdown",
      "metadata": {},
      "source": [
        "::::{admonition} Question\n",
        ":class: question\n",
        "Experiment by modifying the last command you added and pressing Run to test it, until it prints the words “hello” and “Kevin” with a space in between them.  What command did you use?\n",
        "::::\n"
      ]
    },
    {
      "cell_type": "code",
      "execution_count": null,
      "metadata": {
        "trusted": true
      },
      "outputs": [],
      "source": []
    },
    {
      "cell_type": "markdown",
      "metadata": {},
      "source": [
        "::::{admonition} The Print Command\n",
        ":class: question\n",
        "Describe what, in general, the “print” command does.\n",
        "::::\n"
      ]
    },
    {
      "cell_type": "markdown",
      "metadata": {},
      "source": []
    },
    {
      "cell_type": "code",
      "execution_count": null,
      "metadata": {
        "trusted": true
      },
      "outputs": [],
      "source": []
    },
    {
      "cell_type": "markdown",
      "metadata": {},
      "source": [
        "::::{admonition} Part C: Coding in Jupyter\n",
        ":class: tip\n",
        "\n",
        "Continue with the worksheet, adding \"code\" and \"Markdown\" cells as necessary :) \n",
        "\n",
        "::::"
      ]
    }
  ],
  "metadata": {
    "kernelspec": {
      "display_name": ".venv (3.13.3)",
      "language": "python",
      "name": "python3"
    },
    "language_info": {
      "codemirror_mode": {
        "name": "ipython",
        "version": 3
      },
      "file_extension": ".py",
      "mimetype": "text/x-python",
      "name": "python",
      "nbconvert_exporter": "python",
      "pygments_lexer": "ipython3",
      "version": "3.13.3"
    }
  },
  "nbformat": 4,
  "nbformat_minor": 4
}
