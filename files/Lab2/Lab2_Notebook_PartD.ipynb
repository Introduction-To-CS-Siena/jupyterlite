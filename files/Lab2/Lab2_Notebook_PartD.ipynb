{
  "cells": [
    {
      "cell_type": "code",
      "execution_count": 1,
      "metadata": {
        "editable": false,
        "slideshow": {
          "slide_type": ""
        },
        "tags": [],
        "trusted": true
      },
      "outputs": [],
      "source": [
        "%pip install siena_mls\n",
        "from JES import *"
      ]
    },
    {
      "cell_type": "markdown",
      "metadata": {
        "editable": false,
        "slideshow": {
          "slide_type": ""
        },
        "tags": []
      },
      "source": [
        "# Lab 2\n",
        "<h1 style=\"text-align:center;\">\n",
        "  <span style=\"color:red;\">Picture</span>\n",
        "  <span style=\"color:green;\">This</span>\n",
        "  <span style=\"color:blue;\">!</span>\n",
        "</h1>\n",
        "\n",
        "\n",
        "### What You’ll Learn in this Lab:\n",
        "\n",
        "- How to use and create Python functions\n",
        "- How to do something cool with pictures in Python\n",
        "- How to use, modify and create functions that change the colors of pixels in an image\n",
        "- How some cool image effects are done\n",
        "- How to generalize a function by adding additional inputs that make it more useful\n",
        "\n",
        "### Readings: \n",
        "\n",
        "Chapter 4 of the Python text"
      ]
    },
    {
      "cell_type": "markdown",
      "metadata": {
        "editable": false,
        "slideshow": {
          "slide_type": ""
        },
        "tags": []
      },
      "source": [
        "## Getting Started\n",
        "\n",
        "Throughout the lab, you will be asked to write responses to questions.  \n",
        "Please add new cells of type **Raw** for written responses and cells of type **Code** for coding responses.\n",
        "\n",
        "Before starting, decide who in your lab partnership will be the first *driver* and who will be the first *navigator*.  \n",
        "During the lab, we’ll remind you to switch roles using the symbol 🔄.\n",
        "\n",
        ":::{important} Coding Questions\n",
        "These require answers written in Python code.  \n",
        "If no \"Code\" cell is provided after the question, please add one.\n",
        ":::\n",
        "\n",
        ":::{attention} Writing Questions\n",
        "These require typed responses.  \n",
        "If no \"Raw\" cell is provided after the question, please add one and type your answer there.\n",
        ":::\n",
        "\n",
        ":::{hint} Save & Download Often\n",
        "- Use the **Save** icon or `Ctrl+S` to save your work frequently.  \n",
        "- Use the **Download** button in the menu bar to save a copy of the notebook to your computer.  \n",
        "- You must submit this downloaded file on Canvas.  \n",
        "- Download a copy after each significant milestone in your work.\n",
        ":::\n",
        "\n",
        "--- \n",
        "\n",
        "::::{admonition} Question\n",
        ":class: attention\n",
        "Who is the starting Driver and who is the starting Navigator? \n",
        "::::\n"
      ]
    },
    {
      "cell_type": "raw",
      "metadata": {
        "editable": true,
        "raw_mimetype": "",
        "slideshow": {
          "slide_type": ""
        },
        "tags": []
      },
      "source": [
        "Driver : ___________ Navigator: _________"
      ]
    },
    {
      "cell_type": "markdown",
      "metadata": {
        "editable": false,
        "slideshow": {
          "slide_type": ""
        },
        "tags": []
      },
      "source": [
        "## Part B: Mister Negative\n",
        "Using a web browser, the Driver and Navigator will do something slightly different here.\n",
        "\n",
        "\n",
        "\n",
        "::::{admonition} Driver\n",
        ":class: tip\n",
        "The Driver should do this: Go on the internet and find a normal jpg picture online of something or someone famous that you like.\n",
        "::::\n",
        "\n",
        "::::{admonition} Navigator\n",
        ":class: tip\n",
        "The Navigator should do this: Go on the internet and find a negative jpg picture online of something or someone famous that you like.  Not sure what a negative picture is? This is an example of Mister Negative from the Spider Man Universe!\n",
        "```{image} https://i0.wp.com/media.criticalhit.net//2018/08/Mister-Negative-13.jpg\n",
        ":alt: mr-negative\n",
        ":class: bg-primary\n",
        ":width: 200px\n",
        ":align: center\n",
        "```\n",
        "::::\n"
      ]
    },
    {
      "cell_type": "markdown",
      "metadata": {
        "editable": false,
        "slideshow": {
          "slide_type": ""
        },
        "tags": []
      },
      "source": [
        "::::{admonition} Question\n",
        ":class: attention\n",
        "Describe the pictures that you and your lab partner added to this project?\n",
        "::::\n"
      ]
    },
    {
      "cell_type": "raw",
      "metadata": {
        "editable": true,
        "raw_mimetype": "",
        "slideshow": {
          "slide_type": ""
        },
        "tags": []
      },
      "source": []
    },
    {
      "attachments": {},
      "cell_type": "markdown",
      "metadata": {
        "editable": false,
        "slideshow": {
          "slide_type": ""
        },
        "tags": []
      },
      "source": [
        "### take a look at this function:\n",
        "```python\n",
        "from JES import *\n",
        "\n",
        "# Takes as input a picture object and ... \n",
        "def lab2Fun(picture):\n",
        "  for px in getPixels(picture):\n",
        "    rval = getRed(px)\n",
        "    gval = getGreen(px)\n",
        "    bval = getBlue(px)\n",
        "    setRed( px, 255 - rval )\n",
        "    setGreen( px, 255 - gval )\n",
        "    setBlue( px, 255 - bval )\n",
        "#Test code below\n",
        "```\n",
        "::::{admonition} Question\n",
        ":class: attention\n",
        "Suppose you were to call function `lab2Fun` with the 2 pixel image below on the left as input.  Trace the code to determine what the RGB values will be after `lab2Fun` executes?  Write in the new RGB values below.\n",
        "::::\n",
        "![][pixels]\n",
        "\n",
        "[pixels]:\n",
        "data:image/png;base64,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"
      ]
    },
    {
      "cell_type": "code",
      "execution_count": 2,
      "metadata": {
        "editable": false,
        "jupyter": {
          "source_hidden": true
        },
        "slideshow": {
          "slide_type": "fragment"
        },
        "tags": [
          "hide-input"
        ],
        "trusted": true
      },
      "outputs": [
        {
          "data": {
            "application/vnd.jupyter.widget-view+json": {
              "model_id": "5ba1856b68d44c1f80982a33c18df729",
              "version_major": 2,
              "version_minor": 0
            },
            "text/plain": [
              "HBox(children=(VBox(children=(Label(value='left-pixel'), HBox(children=(Label(value='R:'), Text(value='', plac…"
            ]
          },
          "metadata": {},
          "output_type": "display_data"
        }
      ],
      "source": [
        "%pip install ipywidgets\n",
        "\n",
        "\n",
        "import ipywidgets as widgets\n",
        "from IPython.display import display\n",
        "\n",
        "# Helper to make a row of labels and text boxes\n",
        "def make_row(labels):\n",
        "    return [widgets.HBox([widgets.Label(lab), widgets.Text(placeholder=\"\")]) for lab in labels]\n",
        "\n",
        "# Make the \"before\" and \"after\" tables\n",
        "before_rows = make_row([\"R:\", \"G:\", \"B:\"])\n",
        "after_rows  = make_row([\"R:\", \"G:\", \"B:\"])\n",
        "\n",
        "# Put them into side-by-side VBox containers\n",
        "before_box = widgets.VBox([widgets.Label(\"left-pixel\")] + before_rows)\n",
        "after_box  = widgets.VBox([widgets.Label(\"right-pixel\")]  + after_rows)\n",
        "\n",
        "# Display side by side\n",
        "display(widgets.HBox([before_box, after_box]))"
      ]
    },
    {
      "cell_type": "markdown",
      "metadata": {
        "editable": false,
        "slideshow": {
          "slide_type": ""
        },
        "tags": []
      },
      "source": [
        ":::{attention} Question\n",
        "Visually, what do you guess lab2Fun does to an image? You may not be sure, but make a guess anyway.\n",
        ":::"
      ]
    },
    {
      "cell_type": "raw",
      "metadata": {
        "editable": true,
        "raw_mimetype": "",
        "slideshow": {
          "slide_type": ""
        },
        "tags": []
      },
      "source": []
    },
    {
      "cell_type": "markdown",
      "metadata": {
        "editable": false,
        "slideshow": {
          "slide_type": ""
        },
        "tags": []
      },
      "source": [
        "#### Adding Test commands\n",
        "To test `lab2Fun`, add the test commands shown below and complete the next cell.\n",
        "\n",
        "```python\n",
        "#Test code below\n",
        "\n",
        "myPic = makePicture(\"yourPictureFile.jpg\")\n",
        "lab2fun(myPic)\n",
        "show(myPic)\n",
        "\n",
        "```\n",
        "\n",
        ":::{important} Fix the error\n",
        "Press Run. If you typed it exactly as shown above, Python should give you an error message.\n",
        ":::\n"
      ]
    },
    {
      "cell_type": "code",
      "execution_count": 3,
      "metadata": {
        "editable": true,
        "slideshow": {
          "slide_type": ""
        },
        "tags": [],
        "trusted": true
      },
      "outputs": [],
      "source": [
        "# Your response goes here... COMPLETE THIS CELL...\n",
        "from JES import *\n",
        "\n",
        "# Takes as input a picture object and ... \n",
        "def lab2Fun(picture):\n",
        "  for px in getPixels(picture):\n",
        "    rval = getRed(px)\n",
        "    gval = getGreen(px)\n",
        "    bval = getBlue(px)\n",
        "    setRed( px, 255 - rval )\n",
        "    setGreen( px, 255 - gval )\n",
        "    setBlue( px, 255 - bval )\n",
        "#Test code below"
      ]
    },
    {
      "cell_type": "markdown",
      "metadata": {
        "editable": true,
        "slideshow": {
          "slide_type": ""
        },
        "tags": []
      },
      "source": [
        "#### Debug\n",
        "\n",
        ":::{attention} Question\n",
        "What error is Python reporting, and why?  What does this tell you about the Python Programming language?\n",
        ":::"
      ]
    },
    {
      "cell_type": "raw",
      "metadata": {
        "editable": true,
        "raw_mimetype": "",
        "slideshow": {
          "slide_type": ""
        },
        "tags": []
      },
      "source": []
    },
    {
      "cell_type": "markdown",
      "metadata": {
        "editable": true,
        "slideshow": {
          "slide_type": ""
        },
        "tags": []
      },
      "source": [
        ":::{attention} Question\n",
        "What did the function `lab2Fun` do to the picture?  In the code cell below, **complete** the comment for `lab2Fun`  so that it describes the function.\n",
        ":::"
      ]
    },
    {
      "cell_type": "code",
      "execution_count": null,
      "metadata": {
        "editable": true,
        "slideshow": {
          "slide_type": ""
        },
        "tags": [],
        "trusted": true
      },
      "outputs": [],
      "source": []
    },
    {
      "cell_type": "markdown",
      "metadata": {
        "editable": false,
        "slideshow": {
          "slide_type": ""
        },
        "tags": []
      },
      "source": [
        ":::{important} Running `lab2Fun` twice\n",
        "\n",
        "Now modify your test commands so that they run the function lab2Fun two times in a row before showing the picture\n",
        "\n",
        ":::"
      ]
    },
    {
      "cell_type": "code",
      "execution_count": null,
      "metadata": {
        "editable": true,
        "slideshow": {
          "slide_type": ""
        },
        "tags": [],
        "trusted": true
      },
      "outputs": [],
      "source": []
    },
    {
      "cell_type": "markdown",
      "metadata": {
        "editable": false,
        "slideshow": {
          "slide_type": ""
        },
        "tags": []
      },
      "source": [
        ":::{attention} Question\n",
        " What happened to the original picture after running the function lab2Fun twice in a row on it\n",
        ":::"
      ]
    },
    {
      "cell_type": "raw",
      "metadata": {
        "editable": true,
        "raw_mimetype": "",
        "slideshow": {
          "slide_type": ""
        },
        "tags": []
      },
      "source": []
    },
    {
      "cell_type": "markdown",
      "metadata": {
        "editable": false,
        "slideshow": {
          "slide_type": ""
        },
        "tags": []
      },
      "source": [
        ":::{important} use lab2Fun on Navigator's downloaded picture\n",
        "Now use lab2Fun on the Navigator’s negative picture, to reveal what the original image looked like.  Do this by modifying the test commands at the bottom of the test code, then finally show the image!\n",
        ":::\n"
      ]
    },
    {
      "cell_type": "code",
      "execution_count": null,
      "metadata": {
        "editable": true,
        "slideshow": {
          "slide_type": ""
        },
        "tags": [],
        "trusted": true
      },
      "outputs": [],
      "source": []
    },
    {
      "cell_type": "markdown",
      "metadata": {
        "editable": false,
        "slideshow": {
          "slide_type": ""
        },
        "tags": []
      },
      "source": [
        ":::{danger} Checkpoint!\n",
        "Show the picture to your instructor\n",
        ":::"
      ]
    },
    {
      "cell_type": "markdown",
      "metadata": {
        "editable": true,
        "slideshow": {
          "slide_type": ""
        },
        "tags": []
      },
      "source": [
        "---"
      ]
    },
    {
      "cell_type": "markdown",
      "metadata": {
        "editable": false,
        "slideshow": {
          "slide_type": ""
        },
        "tags": []
      },
      "source": [
        "# Part C Grayscale\n",
        "\n",
        "Colors that are shades of gray have equal red, green and blue values.  For example, a light gray color might have RGB values (210, 210, 210); a darker gray might be (80, 80, 80). \n",
        "\n",
        "Let’s use this idea to create a grayscale image filter.  What a grayscale filter does is for each pixel, it computes the average of its RGB values and then sets its R, G, and B to that average value.   \n"
      ]
    },
    {
      "cell_type": "markdown",
      "metadata": {
        "editable": false,
        "slideshow": {
          "slide_type": ""
        },
        "tags": []
      },
      "source": [
        ":::{attention} Question\n",
        "\n",
        "Suppose you were to run a grayscale image filter on the 2 pixel image below on the left as input.  \n",
        "\n",
        "Determine what the RGB values will be afterwards. \n",
        "\n",
        "Write in the new RGB values below on the right or on your worksheet.  \n",
        "\n",
        "If the average has a fractional part, truncate it to make it a whole number.\n",
        "![][partc-pixels]\n",
        ":::\n",
        "\n",
        "[partc-pixels]:\n",
        "data:image/png;base64,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"
      ]
    },
    {
      "cell_type": "raw",
      "metadata": {
        "editable": true,
        "raw_mimetype": "",
        "slideshow": {
          "slide_type": ""
        },
        "tags": []
      },
      "source": []
    },
    {
      "cell_type": "markdown",
      "metadata": {
        "editable": false,
        "slideshow": {
          "slide_type": ""
        },
        "tags": []
      },
      "source": [
        "### Writing a new function - grayscale\n",
        "Here is a partial function derived from the textbook for this filter!\n",
        "\n",
        "```{code-cell} python\n",
        ":linenos:\n",
        "\n",
        "def grayScale(picture):\n",
        "    for p in getPixels(picture):   # (1)!\n",
        "        average = ...              # (2)!\n",
        "        setRed(p, average)\n",
        "        setGreen(p, average)\n",
        "        setBlue(p, average)\n",
        "```\n",
        "\n",
        "1. Loop through all pixels in the image.  \n",
        "2. Compute the average of R, G, B for grayscale.\n",
        "\n",
        ":::{important} Complete this function!\n",
        "The line that computes the average (indicated by (2)) is incomplete above.  \n",
        "\n",
        "Complete that line by writing code that computes the average of pixel p’s red, green, and blue values. \n",
        "\n",
        "Test your code by modifying the test commands\n",
        "\n",
        "1. read in the Driver’s normal picture file that was downloaded today\n",
        "2. run the function grayScale on it one time, and\n",
        "3. `show` the output image!\n",
        "\n",
        ":::{hint} Solving errors\n",
        "Usually if there is a mistake in your code, python will show the error messages in place. If there are any errors, go ahead and fix them and press Run again.\n",
        ":::"
      ]
    },
    {
      "cell_type": "code",
      "execution_count": null,
      "metadata": {
        "editable": true,
        "slideshow": {
          "slide_type": ""
        },
        "tags": [],
        "trusted": true
      },
      "outputs": [],
      "source": []
    },
    {
      "cell_type": "markdown",
      "metadata": {
        "editable": false,
        "slideshow": {
          "slide_type": ""
        },
        "tags": []
      },
      "source": [
        ":::{attention} Question\n",
        "What did this function do to the original picture?\n",
        ":::"
      ]
    },
    {
      "cell_type": "raw",
      "metadata": {
        "editable": true,
        "raw_mimetype": "",
        "slideshow": {
          "slide_type": ""
        },
        "tags": []
      },
      "source": []
    },
    {
      "cell_type": "markdown",
      "metadata": {
        "editable": true,
        "slideshow": {
          "slide_type": ""
        },
        "tags": []
      },
      "source": [
        ":::{danger} Checkpoint!\n",
        "Show the picture to your instructor. \n",
        ":::\n",
        "\n",
        "--- \n",
        "\n",
        ":::{attention} Switch\n",
        "Who is the new Driver and who is the new Navigator?\n",
        ":::\n"
      ]
    },
    {
      "cell_type": "raw",
      "metadata": {},
      "source": []
    },
    {
      "cell_type": "markdown",
      "metadata": {
        "editable": false,
        "slideshow": {
          "slide_type": ""
        },
        "tags": []
      },
      "source": [
        "# Part D - Mangled\n",
        "In this section you’ll write four new functions that together “mangle” a picture.\n",
        "\n",
        ":::{important} Function `clearRed`\n",
        "\n",
        "write a new function called `clearRed(picture)`.  It takes one input, a picture object, and it eliminates all the red in that picture.  \n",
        "\n",
        "- Modify your test commands so that they test your new function on any picture file that you see listed under Files.\n",
        "- Finally, `show` this image. \n",
        ":::"
      ]
    },
    {
      "cell_type": "code",
      "execution_count": null,
      "metadata": {
        "trusted": true
      },
      "outputs": [],
      "source": []
    },
    {
      "cell_type": "markdown",
      "metadata": {
        "editable": false,
        "slideshow": {
          "slide_type": ""
        },
        "tags": []
      },
      "source": [
        ":::{important} Function `veryBlue`\n",
        "write a function that takes a picture object for input and maxes out the blue (i.e., every pixel gets the largest possible blue value).  \n",
        "\n",
        "- Give your function a descriptive name. `veryBlue` is a good name, but hey its just a name :D\n",
        "- Modify your test commands at the bottom so that they test your new function on any picture file that you see listed under Files.  \n",
        "- Finally, `show` this image.\n",
        ":::"
      ]
    },
    {
      "cell_type": "code",
      "execution_count": null,
      "metadata": {
        "trusted": true
      },
      "outputs": [],
      "source": []
    },
    {
      "cell_type": "markdown",
      "metadata": {},
      "source": [
        ":::{attention} Switch\n",
        "Who is the new Driver and who is the new Navigator?\n",
        ":::"
      ]
    },
    {
      "cell_type": "raw",
      "metadata": {},
      "source": []
    },
    {
      "cell_type": "markdown",
      "metadata": {
        "editable": false,
        "slideshow": {
          "slide_type": ""
        },
        "tags": []
      },
      "source": [
        ":::{important} Function `negGreen`\n",
        "write a function that takes a picture object for input and negates just the green value of every pixel, leaving the red and blue values unchanged. \n",
        "- For example, if the green value of a pixel is 50, then its negated value is the maximum green value 255 minus 50, which is 205.\n",
        "- Give your function a descriptive name. \n",
        "- Modify your test commands at the bottom so that they test your new function on any picture file that you see listed under Files.\n",
        "- Finally, `show` this image.\n",
        "- Test, make changes, and repeat until  your function is working correctly.\n",
        "- Add a comment describing the function.\n"
      ]
    },
    {
      "cell_type": "code",
      "execution_count": null,
      "metadata": {
        "trusted": true
      },
      "outputs": [],
      "source": []
    },
    {
      "cell_type": "markdown",
      "metadata": {
        "editable": false,
        "slideshow": {
          "slide_type": ""
        },
        "tags": []
      },
      "source": [
        ":::{attention} Finction `mangle`\n",
        "\n",
        "**Finally we’re ready to write the last function which will do all three of these things to a picture.**\n",
        "\n",
        "- Write another function called  `mangle(picture)`.\n",
        "- This function takes one input, a picture object.\n",
        "- It should have no loops and should simply call (use) the last 3 functions you just wrote.\n",
        "- Modify your test commands at the bottom so that they test your new function on any picture file that you see listed under Files.\n",
        "- Finally `show` this image.\n",
        "- The test code should show the . Test, make changes, and repeat until  your function is working correctly.\n",
        "- Add a comment describing the function.\n"
      ]
    },
    {
      "cell_type": "code",
      "execution_count": null,
      "metadata": {
        "trusted": true
      },
      "outputs": [],
      "source": []
    },
    {
      "cell_type": "markdown",
      "metadata": {
        "editable": false,
        "slideshow": {
          "slide_type": ""
        },
        "tags": []
      },
      "source": [
        ":::{attention} Question\n",
        "Does the order in which you call the 3 functions matter?  Why or why not?\n",
        ":::"
      ]
    },
    {
      "cell_type": "raw",
      "metadata": {},
      "source": []
    },
    {
      "cell_type": "markdown",
      "metadata": {
        "editable": true,
        "slideshow": {
          "slide_type": ""
        },
        "tags": []
      },
      "source": [
        ":::{danger} Checkpoint!\n",
        "Show your code and the mangled.jpg picture to your instructor. \n",
        ":::"
      ]
    }
  ],
  "metadata": {
    "kernelspec": {
      "display_name": "Python (Pyodide)",
      "language": "python",
      "name": "python"
    },
    "language_info": {
      "codemirror_mode": {
        "name": "python",
        "version": 3
      },
      "file_extension": ".py",
      "mimetype": "text/x-python",
      "name": "python",
      "nbconvert_exporter": "python",
      "pygments_lexer": "ipython3",
      "version": "3.8"
    }
  },
  "nbformat": 4,
  "nbformat_minor": 4
}
