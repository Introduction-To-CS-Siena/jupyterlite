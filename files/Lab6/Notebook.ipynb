{
  "cells": [
    {
      "cell_type": "markdown",
      "id": "59afe775-f057-4ce5-8417-3a38b103b5cd",
      "metadata": {
        "editable": false,
        "slideshow": {
          "slide_type": ""
        },
        "tags": []
      },
      "source": [
        "# Lab 6\n",
        "## Sound Off!\n",
        "\n",
        "### Pleae read the instruction manual and use this notebook for python work."
      ]
    },
    {
      "cell_type": "code",
      "execution_count": null,
      "id": "05a0b811-bd61-40ed-8db7-1fdddacfe18a",
      "metadata": {
        "trusted": true
      },
      "outputs": [],
      "source": [
        "%pip install siena_mls\n",
        "from JES import *\n",
        "\n",
        "# Increases the volume of the second half of a sound object.\n",
        "# Accepts a sound object as a parameter\n",
        "# Variation of Program 93 in Guzdial textbook\n",
        "def increaseVolume(sound):\n",
        "    numSamples = getLength(sound)\n",
        "    for index in range(numSamples//2, numSamples):\n",
        "        og = getSampleValueAt(sound, index)\n",
        "        setSampleValueAt(sound, index, og*2)  "
      ]
    },
    {
      "cell_type": "code",
      "execution_count": null,
      "id": "027f83ed-20e1-4660-b28a-34869996bdde",
      "metadata": {
        "trusted": true
      },
      "outputs": [],
      "source": [
        "mySnd = makeSound(\"gettysburg10.wav\")\n",
        "play(mySnd)\n",
        "writeSoundTo(mySnd, \"out.wav\")"
      ]
    },
    {
      "cell_type": "code",
      "execution_count": null,
      "id": "c17af099-f5dd-4822-825c-fbddbcbd9ede",
      "metadata": {
        "trusted": true
      },
      "outputs": [],
      "source": []
    }
  ],
  "metadata": {
    "kernelspec": {
      "display_name": "Python (Pyodide)",
      "language": "python",
      "name": "python"
    },
    "language_info": {
      "codemirror_mode": {
        "name": "python",
        "version": 3
      },
      "file_extension": ".py",
      "mimetype": "text/x-python",
      "name": "python",
      "nbconvert_exporter": "python",
      "pygments_lexer": "ipython3",
      "version": "3.8"
    }
  },
  "nbformat": 4,
  "nbformat_minor": 5
}
