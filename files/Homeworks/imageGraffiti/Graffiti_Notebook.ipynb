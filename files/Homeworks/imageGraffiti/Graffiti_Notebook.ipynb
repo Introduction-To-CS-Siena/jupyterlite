{
  "cells": [
    {
      "cell_type": "markdown",
      "id": "6af2d9eb-5d53-4e7e-bb6a-7bae10c52abc",
      "metadata": {
        "editable": false,
        "slideshow": {
          "slide_type": ""
        },
        "tags": []
      },
      "source": [
        "# Image Graffiti Homework\n",
        "\n",
        "_Please find the assignment writeup on canvas._\n",
        "\n",
        "_Assigned Oct 14, Due Oct 22 Before the lectures_\n",
        "\n",
        "--- \n",
        ":::{important} Task\n",
        "Please find the writeup on canvas and complete the tasks in the notebook below.\n",
        ":::\n",
        "\n",
        ":::{hint} Save & Download Often\n",
        "- Download your Notebook along with the picture you are using.\n",
        "- Use the **Download** button in the menu bar to save a copy of the notebook to your computer often.  \n",
        "- You must submit this downloaded file on Canvas.  \n",
        "\n",
        ":::"
      ]
    },
    {
      "cell_type": "code",
      "execution_count": null,
      "id": "e7ad5447-8725-4147-acb8-7d85b053601e",
      "metadata": {
        "trusted": true
      },
      "outputs": [],
      "source": [
        "%pip install siena_mls\n",
        "from JES import *"
      ]
    }
  ],
  "metadata": {
    "kernelspec": {
      "display_name": "Python (Pyodide)",
      "language": "python",
      "name": "python"
    },
    "language_info": {
      "codemirror_mode": {
        "name": "python",
        "version": 3
      },
      "file_extension": ".py",
      "mimetype": "text/x-python",
      "name": "python",
      "nbconvert_exporter": "python",
      "pygments_lexer": "ipython3",
      "version": "3.8"
    },
    "widgets": {
      "application/vnd.jupyter.widget-state+json": {
        "state": {},
        "version_major": 2,
        "version_minor": 0
      }
    }
  },
  "nbformat": 4,
  "nbformat_minor": 5
}
