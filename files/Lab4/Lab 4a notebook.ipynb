{
  "cells": [
    {
      "cell_type": "code",
      "execution_count": null,
      "id": "55110c6d-d682-4c0c-8924-23b3dcf4a7cd",
      "metadata": {
        "trusted": true
      },
      "outputs": [],
      "source": [
        "%pip install siena_mls\n",
        "from JES import *\n",
        "\n",
        "# XOR simulation\n",
        "def XOR():\n",
        "    # get inputs and echo them to user \n",
        "    # (don't change these 4 lines)\n",
        "    A = int(input(\"Please enter 1 or 0 for A: \"))\n",
        "    B = int(input(\"Please enter 1 or 0 for B: \"))\n",
        "    print( \"A is:  \", A ) \n",
        "    print( \"B is:  \", B )\n",
        "\n",
        "    \n",
        "    # Fix the conditions in the if statements \n",
        "    # below so that they do the following:  \n",
        "    # If (A XOR B) is true, the word \"TRUE\" \n",
        "    # should be added to the result picture.\n",
        "    # If (A XOR B) is false, then \"FALSE\" should \n",
        "    # be added to the result picture.  \n",
        "    if (A == 1):\n",
        "        print(\"TRUE\")\n",
        "    if (A == 0) and (B == 0):\n",
        "        print(\"FALSE\")\n",
        "\n",
        "        \n",
        "# Call the function here."
      ]
    }
  ],
  "metadata": {
    "kernelspec": {
      "display_name": "Python (Pyodide)",
      "language": "python",
      "name": "python"
    },
    "language_info": {
      "codemirror_mode": {
        "name": "python",
        "version": 3
      },
      "file_extension": ".py",
      "mimetype": "text/x-python",
      "name": "python",
      "nbconvert_exporter": "python",
      "pygments_lexer": "ipython3",
      "version": "3.8"
    }
  },
  "nbformat": 4,
  "nbformat_minor": 5
}
