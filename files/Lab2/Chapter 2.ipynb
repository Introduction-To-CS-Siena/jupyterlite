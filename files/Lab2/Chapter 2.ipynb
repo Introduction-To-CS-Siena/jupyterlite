{
  "metadata": {
    "kernelspec": {
      "name": "python",
      "display_name": "Python (Pyodide)",
      "language": "python"
    },
    "language_info": {
      "codemirror_mode": {
        "name": "python",
        "version": 3
      },
      "file_extension": ".py",
      "mimetype": "text/x-python",
      "name": "python",
      "nbconvert_exporter": "python",
      "pygments_lexer": "ipython3",
      "version": "3.8"
    }
  },
  "nbformat_minor": 5,
  "nbformat": 4,
  "cells": [
    {
      "id": "a0bb09d1-0a6f-4194-a48d-f1b9f01dd5d0",
      "cell_type": "code",
      "source": "%pip install siena_mls\nfrom JES import *",
      "metadata": {
        "editable": false,
        "slideshow": {
          "slide_type": ""
        },
        "tags": [],
        "trusted": true
      },
      "outputs": [],
      "execution_count": null
    },
    {
      "id": "4e2ba668-5d8f-4b04-a166-4a66cde626b1",
      "cell_type": "markdown",
      "source": "# Lab 2 - Chapter 2",
      "metadata": {
        "editable": false,
        "slideshow": {
          "slide_type": ""
        },
        "tags": []
      }
    },
    {
      "id": "6ae52178-ae1f-4831-b468-80a7e0124da0",
      "cell_type": "markdown",
      "source": "## Getting Started\n",
      "metadata": {
        "editable": false,
        "slideshow": {
          "slide_type": ""
        },
        "tags": [],
        "jp-MarkdownHeadingCollapsed": true
      }
    },
    {
      "id": "98103056-f602-4a03-bcec-3d0f215c61f4",
      "cell_type": "markdown",
      "source": "Throughout the lab, you will be asked to write responses to questions.  \nPlease add new cells of type **Raw** for written responses and cells of type **Code** for coding responses.\n\nBefore starting, decide who in your lab partnership will be the first *driver* and who will be the first *navigator*.  \nDuring the lab, we’ll remind you to switch roles using the symbol 🔄.\n\n:::{important} Coding Questions\nThese require answers written in Python code.  \nIf no \"Code\" cell is provided after the question, please add one.\n:::\n\n:::{attention} Writing Questions\nThese require typed responses.  \nIf no \"Raw\" cell is provided after the question, please add one and type your answer there.\n:::\n\n:::{hint} Save & Download Often\n- Use the **Save** icon or `Ctrl+S` to save your work frequently.  \n- Use the **Download** button in the menu bar to save a copy of the notebook to your computer.  \n- You must submit this downloaded file on Canvas.  \n- Download a copy after each significant milestone in your work.\n:::\n\n--- \n\n::::{admonition} Question\n:class: attention\nWho is the starting Driver and who is the starting Navigator? \n::::\n",
      "metadata": {
        "tags": [],
        "editable": false,
        "slideshow": {
          "slide_type": ""
        }
      }
    },
    {
      "id": "0eabefb0-698f-46ef-8f2e-1640f1fefcab",
      "cell_type": "raw",
      "source": "Driver : ___________ Navigator: _________",
      "metadata": {
        "editable": true,
        "raw_mimetype": "",
        "slideshow": {
          "slide_type": ""
        },
        "tags": []
      }
    },
    {
      "id": "55397696-c19b-4708-b4b8-bb32f124083c",
      "cell_type": "markdown",
      "source": "# Part D - Mangled\n\nIn this section you’ll write four new functions that together “mangle” a picture.\n\nEach of these tabs have instructions to work on the same **code** cell below.\n\n```{tab-set}\n \n::::{tab-item} Step I \n\n## D.1 Implement Function `clearRed`\n:::{important} D.1 Implement Function `clearRed`\n\nwrite a new function called `clearRed(picture)`.  \nIt takes one input, a picture object, and it eliminates all the red in that picture.  \n\n- Modify your test commands so that they test your new function on any picture file that you see listed under Files.\n- Finally, `show` this image. \n:::\n\n::::\n\n::::{tab-item} Step II \n\n## D.2 Implement Function `veryBlue`\n:::{important} D.2 Implement Function `veryBlue`\nwrite a function that takes a picture object for input and maxes out the blue (i.e., every pixel gets the largest possible blue value).  \n\n- Give your function a descriptive name. `veryBlue` is a good name, but hey its just a name :D\n- Modify your test commands so that they test your new function on any picture file that you see listed under Files.  \n- Finally, `show` this image.\n:::\n:::{attention} Switch\nWho is the new Driver and who is the new Navigator?\nAdd your answer as a comment.\n:::\n::::\n\n\n\n::::{tab-item} Step III  \n\n## D.3 Implement Function `negGreen`\n\n:::{important} D.4 Implement Function `negGreen`\nwrite a function that takes a picture object for input and negates just the green value of every pixel, leaving the red and blue values unchanged. \n- For example, if the green value of a pixel is 50, then its negated value is the maximum green value 255 minus 50, which is 205.\n- Give your function a descriptive name. \n- Modify your test commands at the bottom so that they test your new function on any picture file that you see listed under Files.\n- Finally, `show` this image.\n- Test, make changes, and repeat until  your function is working correctly.\n- *Add a comment describing the function.*\n\n:::: \n\n::::{tab-item} Step IV \n\n## D.4 Implement Function `mangle`\n:::{important} D.4 Implement Function `mangle`\n\n**Finally we’re ready to write the last function which will do all three of these things to a picture.**\ni.e. we want to appply all of these previous 3 filters one after the other...\n\n- Create another function called  `mangle(picture)`.\n- This function takes one input, a picture object.\n- It should have **no loops** and should simply call (use) the last 3 functions you just wrote.\n- Modify your test commands at the bottom so that they test your new function on any picture file that you see listed under Files.\n- Finally `show` this image.\n- The test code should show the . Test, make changes, and repeat until  your function is working correctly.\n- Add a comment describing the function.\n\n::::\n\n```",
      "metadata": {
        "editable": false,
        "slideshow": {
          "slide_type": ""
        },
        "tags": []
      }
    },
    {
      "id": "8dd47839-8fc4-4896-af4a-adf12ea06de1",
      "cell_type": "code",
      "source": "%pip install siena_mls\nfrom JES import *\n# ****\n# Work for Part D Goes here\n# ****\n",
      "metadata": {
        "trusted": true,
        "tags": [],
        "editable": true,
        "slideshow": {
          "slide_type": ""
        }
      },
      "outputs": [],
      "execution_count": null
    },
    {
      "id": "a210a2d4-271f-4254-b3fd-5381dff16210",
      "cell_type": "markdown",
      "source": ":::{attention} D.5 Question\nDoes the order in which you call the 3 functions matter?  Why or why not?\n:::",
      "metadata": {
        "editable": false,
        "slideshow": {
          "slide_type": ""
        },
        "tags": []
      }
    },
    {
      "id": "c0631a40-5ed4-42ad-a323-7cad03c546bb",
      "cell_type": "raw",
      "source": "",
      "metadata": {
        "tags": [],
        "editable": true,
        "slideshow": {
          "slide_type": ""
        },
        "raw_mimetype": ""
      }
    },
    {
      "id": "b70d09fd-f41c-4db2-9738-a1fa909a6035",
      "cell_type": "markdown",
      "source": ":::{danger} Checkpoint!\nShow your code and the mangled.jpg picture to your instructor. \n:::",
      "metadata": {
        "editable": true,
        "slideshow": {
          "slide_type": ""
        },
        "tags": []
      }
    },
    {
      "id": "80f03902-c452-4086-9f7b-3b89be91e8fd",
      "cell_type": "markdown",
      "source": ":::{attention} D.6 Switch\nWho is the new Driver and who is the new Navigator?\n:::",
      "metadata": {
        "tags": [],
        "editable": true,
        "slideshow": {
          "slide_type": ""
        }
      }
    },
    {
      "id": "8f64c7bb-4c79-4fa6-bfab-5dc45ddebed5",
      "cell_type": "raw",
      "source": "",
      "metadata": {
        "tags": [],
        "editable": true,
        "slideshow": {
          "slide_type": ""
        },
        "raw_mimetype": ""
      }
    },
    {
      "id": "d7105330-8ee7-4531-b967-33580aacfe24",
      "cell_type": "markdown",
      "source": "---",
      "metadata": {
        "tags": [],
        "editable": true,
        "slideshow": {
          "slide_type": ""
        }
      }
    },
    {
      "id": "5d4523c4-da10-400f-be63-ab011fc75b60",
      "cell_type": "markdown",
      "source": "# Part E Picture Puzzle\n\nTwo picture puzzles are below. The images have been obscured with digital noise and are each hiding a well known landmark. **Your challenge** is to use your new image coding skills to discover what is hidden in the image by attenuating the noise as described below.\n\n:bulb: **Tip:** Remember to appreciate the little things in life.\n\n```{tab-set}\n\n::::{tab-item} E.1 Bronze Puzzle\n\nClick on the image `bronzePuzzle.jpg` to view it. It is a puzzle. It contains an image of something famous; however, the image has been distorted. \n\n> The famous object is in the red values. however, the *red* values have all been divided by 9, so they are too small by a factor of 9.\nThe *blue* and *green* values are all just meaningless random values (“noise”) added to obscure the real image.\n\nYou must undo these distortions to reveal the real image.\n\n:::{important} E.1 Implement the function `solveBronze(pic)`\nTo solve the puzzle, write a new function called `solveBronze(pic)`.  It takes one input, a picture object.  \nTo uncover the hidden image, your function needs to set all the blue and green values to 0 to get them out of the way.  The red values are too small so you need to multiply them by 9.\n\nNow let's write the test commands so that they run your new function on the file `bronze.jpg`. The test code should show the revealed picture below. Test, make changes, and repeat until  your function is working correctly and the landmark is revealed!  \nNote that the landmark will not be totally clear in the result, but you will be able to see it.\n:::\n\n:::{attention} E.1.2 Switch\nWho is the new Driver and who is the new Navigator?\n:::\n\n::::\n\n::::{tab-item} E.2 Silver Puzzle\n\n\nClick on the image `silverPuzzle.jpg` to view it.  It is a puzzle. It shows something famous, but the image has been distorted. \n\n> While the true image is in the *blue* and *green* values, all the blue and green values have all been divided by 10, so the values are very small. The *red* values are all just random numbers, noise added on top to obscure things. \n\nUndo these distortions to reveal the true image.\n\n:::{important} E.2 Implement the function `solveSilver(pic)`\nwrite a new function called `solveSilver(pic)`.  It takes one input, a picture object.  Add add code that **undoes the distortions**. Write test commands so that they run your new function on the file `silver.jpg`.  The test code should show the revealed picture below.\n\n:::\n\n::::\n\n```",
      "metadata": {
        "tags": [],
        "editable": false,
        "slideshow": {
          "slide_type": ""
        }
      }
    },
    {
      "id": "0942164d-af9b-4929-afc1-dd0c98c1c7c0",
      "cell_type": "code",
      "source": "# ****\n# Work for Part E Goes here\n# ****",
      "metadata": {
        "trusted": true,
        "tags": [],
        "editable": true,
        "slideshow": {
          "slide_type": ""
        }
      },
      "outputs": [],
      "execution_count": null
    },
    {
      "id": "977c2b16-34a6-4356-b3e2-fa83659b8a01",
      "cell_type": "markdown",
      "source": ":::{danger} Checkpoint!\nShow your code and the mangled.jpg picture to your instructor. \n:::",
      "metadata": {
        "tags": [],
        "editable": true,
        "slideshow": {
          "slide_type": ""
        }
      }
    },
    {
      "id": "45f8545f-7cda-41e9-9a66-fee9f6778661",
      "cell_type": "markdown",
      "source": "# Part F Randomized Changes\n\n- The last function for this lab will also manipulate a picture, but in a less predictable way.\n- You will write a function that brightens the color of each pixel by a random amount, between 0 and 100.\n\n\n:::{important} F.1 Recollect `randint()`\n`randint(5,10)` : The two inputs to randint tell Python to generate a random integer value within the range 5 to 10. Run the cell below a few times to answer the following question:\n**determine if the range is inclusive of both the start and end values**\n1. Does it ever generate a  \"5\" ?\n2. Does it ever generate a \"10\" ?\n\n",
      "metadata": {
        "tags": [],
        "editable": false,
        "slideshow": {
          "slide_type": ""
        }
      }
    },
    {
      "id": "989382d1-de32-4178-9621-0cdc21527c31",
      "cell_type": "code",
      "source": "from random import *\n\n# Test Code\n\nr = randint(5,10)\nprint(r)\n\n## Is randint function inclusive of both the start and end values? \n## Your answer goes here !",
      "metadata": {
        "trusted": true,
        "tags": [],
        "editable": true,
        "slideshow": {
          "slide_type": ""
        }
      },
      "outputs": [],
      "execution_count": null
    },
    {
      "id": "9da254a2-8bcb-4339-98df-4502c4e31cee",
      "cell_type": "markdown",
      "source": "---",
      "metadata": {
        "tags": [],
        "editable": true,
        "slideshow": {
          "slide_type": ""
        }
      }
    },
    {
      "id": "b158fde8-0efa-40cf-b17c-e7e1c1f61217",
      "cell_type": "markdown",
      "source": "## F.2 Implement function `randomizePic`\nLet's create a function `randomizePic`. \n\n```{tab-set}\n\n::::{tab-item} Step I : randomizePic(pic)\n\n:::{important} F.2.1 Function `randomizePic(pic)`\n\nFirst, let's create a function `randomizePic(pic)` such that, \nThe function should:\n- Loop through every pixel.\n- Pick a random number between 0 - 100 for each pixel (hint: use `randint`).\n- *Add* that number to the pixel’s red, green, and blue values.\n  - Eg: if random number is `47`, then `(50, 20, 12) + 47` becomes `(97, 67, 59)`.\n:::\n\n:::{attention} F.2.1 Switch\nWho is the new Driver and who is the new Navigator?\n:::\n\n::::\n\n::::{tab-item}Step II : randomizePic(pic, maxChange)\n\n:::{important} F.2.2 Function `randomizePic(pic, maxChange)`\nUpdate your function so it has a second parameter called `maxChange`. \n- Now the random number should be between 0 and `maxChange`.\n- Example: `randomizePic(myPic, 150)`\n  - adds a random number between 0 and 150 to each pixel’s red, green, and blue values.\n \n:::\n\n::::\n```",
      "metadata": {
        "tags": [],
        "editable": false,
        "slideshow": {
          "slide_type": ""
        }
      }
    },
    {
      "id": "52adb95a-b987-4d21-8c48-a59eff9919a6",
      "cell_type": "code",
      "source": "%pip install siena_mls\nfrom random import *\nfrom JES import *\n\n# ****\n# Work for Part F Goes here\n# ****\n",
      "metadata": {
        "trusted": true,
        "tags": [],
        "editable": true,
        "slideshow": {
          "slide_type": ""
        }
      },
      "outputs": [],
      "execution_count": 17
    },
    {
      "id": "c6388ad7-7f90-49db-875b-4ea3befa2bca",
      "cell_type": "markdown",
      "source": ":::{attention} F.3 Question - At what value does the image become unrecognizable\nAs maxChange grows, notice how the picture changes. At what point does it become unrecognizable? Why does this happen? (Hint: see Section 4.3.4 of the Python text.)\n:::",
      "metadata": {
        "tags": [],
        "editable": false,
        "slideshow": {
          "slide_type": ""
        }
      }
    },
    {
      "id": "08c06c66-2e9e-4059-896e-03ce3c1eb109",
      "cell_type": "raw",
      "source": "",
      "metadata": {
        "tags": [],
        "editable": true,
        "slideshow": {
          "slide_type": ""
        },
        "raw_mimetype": ""
      }
    },
    {
      "id": "dcb1801d-35ec-495d-8487-32298229144a",
      "cell_type": "markdown",
      "source": "---",
      "metadata": {
        "tags": [],
        "editable": true,
        "slideshow": {
          "slide_type": ""
        }
      }
    },
    {
      "id": "944a4c3f-8e53-480c-803e-7f7fa5747750",
      "cell_type": "markdown",
      "source": "# Part G : Reflections\nThe discussion questions in this section of each lab are meant to make you think critically and creatively about some of the things you did earlier in the lab.  Your answers must be typed and you will be graded on all aspects of your answer (correctness, use of proper terminology, readability, use of complete sentences only, etc.).  In general you are expected to write at least one or two paragraphs in answer to each question. \n\n\n1. Some of the functions you used and wrote today are **invertible**:  _the original picture can be recovered by applying some other function (or possibly re-applying the same function)_.  For each of the four functions below that you used today, state whether it is invertible, and if so, how? \n\n>\n>```\n>clearRed( picture )  # sets red of all pixels to 0\n>lab2Fun( picture )  # negates all pixels\n>grayScale( picture ) # changes picture to black and white    randomizePic( picture )  \n>                     # adds different random amount to each pixel\n>``` \n\nYou don’t need to write any code for this question, but if a function is invertible, either state what function you’ve seen today will invert it, or briefly describe how you might approach inverting it.  If a function is not invertible, explain why.\n \n2. There are many situations in which it’s useful to understand invertibility – the idea that something can be “undone”, or some original state of affairs recovered or returned to.  What are some other examples within the computing realm where you have encountered this concept?  Was it useful?  What are some examples of situations outside of computing in which the ability to go back to a previous state can be useful?\n",
      "metadata": {
        "tags": [],
        "editable": false,
        "slideshow": {
          "slide_type": ""
        }
      }
    },
    {
      "id": "095d873c-338b-432a-86a7-1d6e52baa0a8",
      "cell_type": "markdown",
      "source": "",
      "metadata": {
        "tags": [],
        "editable": true,
        "slideshow": {
          "slide_type": ""
        }
      }
    }
  ]
}