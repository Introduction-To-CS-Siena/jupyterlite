{
  "metadata": {
    "kernelspec": {
      "name": "python",
      "display_name": "Python (Pyodide)",
      "language": "python"
    },
    "language_info": {
      "codemirror_mode": {
        "name": "python",
        "version": 3
      },
      "file_extension": ".py",
      "mimetype": "text/x-python",
      "name": "python",
      "nbconvert_exporter": "python",
      "pygments_lexer": "ipython3",
      "version": "3.8"
    },
    "widgets": {
      "application/vnd.jupyter.widget-state+json": {
        "version_major": 2,
        "version_minor": 0,
        "state": {}
      }
    }
  },
  "nbformat_minor": 5,
  "nbformat": 4,
  "cells": [
    {
      "id": "6af2d9eb-5d53-4e7e-bb6a-7bae10c52abc",
      "cell_type": "markdown",
      "source": "# Image Sequence Homework\n\n_Please find the assignment writeup on canvas._\n\n_Assigned Sep 17, Due Sep 24_\n\n--- \n:::{important} Task\nWrite a function `createSequence()` to generate a sequence of an image in at least four different states (one original and a minimum of three modifications).\n:::",
      "metadata": {
        "tags": [],
        "editable": false,
        "slideshow": {
          "slide_type": ""
        }
      }
    },
    {
      "id": "e7ad5447-8725-4147-acb8-7d85b053601e",
      "cell_type": "code",
      "source": "",
      "metadata": {
        "trusted": true
      },
      "outputs": [],
      "execution_count": null
    }
  ]
}