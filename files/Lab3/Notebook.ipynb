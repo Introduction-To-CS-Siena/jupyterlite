{
  "cells": [
    {
      "cell_type": "markdown",
      "id": "c924fa51",
      "metadata": {},
      "source": [
        "# Lab 3\n",
        "<h1 style=\"text-align:center;\">\n",
        "  <span style=\"color:green;\">FUNHOUSE MIRRORS</span>\n",
        "</h1>\n",
        "\n",
        "\n",
        "### What You’ll Learn in this Lab:\n",
        "\n",
        "- How to set individual pixels in an image\n",
        "- How to manipulate a portion of an image (vs. the whole image)\n",
        "- How to mirror, grow, and shrink an image\n",
        "- How to layer images on one another\n",
        "- How to call functions within functions (again)\n",
        "\n",
        "\n",
        "### Readings:\n",
        "\n",
        "Sections 6.1 and 6.2 in the Python textbook \n",
        "\n",
        "--- \n",
        "\n",
        "\n"
      ]
    },
    {
      "cell_type": "code",
      "execution_count": 1,
      "id": "d54d74f4-6a81-44a7-a2cd-ab7f456f85ca",
      "metadata": {
        "trusted": true
      },
      "outputs": [],
      "source": [
        "%pip install siena_mls\n",
        "from JES import *"
      ]
    },
    {
      "cell_type": "markdown",
      "id": "8a715815",
      "metadata": {},
      "source": [
        "# Getting Started\n",
        "\n",
        "Throughout the lab, you will be asked to write responses to questions.  \n",
        "Please add new cells of type **Raw** for written responses and cells of type **Code** for coding responses.\n",
        "\n",
        "Before starting, decide who in your lab partnership will be the first *driver* and who will be the first *navigator*.\n",
        "\n",
        "During the lab, we’ll remind you to switch roles using the symbol 🔄.\n",
        "\n",
        ":::{important} Coding Questions\n",
        "These require answers written in Python code.  \n",
        "If no \"Code\" cell is provided after the question, please add one.\n",
        ":::\n",
        "\n",
        ":::{attention} Writing Questions\n",
        "These require typed responses.  \n",
        "If no \"Raw\" cell is provided after the question, please add one and type your answer there.\n",
        ":::\n",
        "\n",
        ":::{hint} Save & Download Often\n",
        "- Use the **Save** icon or `Ctrl+S` to save your work frequently.  \n",
        "- Use the **Download** button in the menu bar to save a copy of the notebook to your computer.  \n",
        "- You must submit this downloaded file on Canvas.  \n",
        "- Download a copy after each significant milestone in your work.\n",
        ":::\n",
        "\n",
        "---\n",
        "\n",
        "::::{admonition} Question\n",
        ":class: attention\n",
        "Who is the starting Driver and who is the starting Navigator? \n",
        "::::"
      ]
    },
    {
      "cell_type": "raw",
      "id": "6f65476f",
      "metadata": {},
      "source": [
        "Driver: ____________    Navigator: ____________"
      ]
    },
    {
      "cell_type": "code",
      "execution_count": 2,
      "id": "db371cc6",
      "metadata": {
        "trusted": true
      },
      "outputs": [],
      "source": [
        "%pip install siena_mls\n",
        "from JES import *"
      ]
    },
    {
      "cell_type": "markdown",
      "id": "8c2baf22",
      "metadata": {},
      "source": [
        "# Part A — Getting Set Up & Color Components\n",
        "In this warm-up you’ll inspect RGB color components. You’ll record values for white, black, and a “fun” color.\n",
        "Both lab partners should click on [redketchup.io/color-picker](redketchup.io/color-picker) to go to the RedKetchup website. Scroll down to  the `Pick Color` section and in the grid of colors, click on the one that looks white.  \n",
        "Scroll down to the `Edit and Convert Color Code` section to see its red, green and blue color values.\n",
        "\n",
        "1) Open a color picker (e.g., redketchup or your favorite).  \n",
        "2) Locate the **RGB** values (0–255 each) for:\n",
        "   - **White**\n",
        "   - **Black**\n",
        "   - **A fun color of your choice**\n",
        "3) Record your answers below as **Writing** responses.\n",
        ":::{attention} A.2 — White RGB\n",
        "Write the (R, G, B) values for **white**.\n",
        ":::\n",
        ":::{attention} A.3 — Black RGB\n",
        "Write the (R, G, B) values for **black**.\n",
        ":::\n",
        ":::{attention} A.4 — Fun Color RGB\n",
        "Write the (R, G, B) you chose for your fun color.\n",
        ":::\n",
        "\n"
      ]
    },
    {
      "cell_type": "raw",
      "id": "6ea350bf-63e4-44d5-a527-3b658dc46f6e",
      "metadata": {},
      "source": []
    },
    {
      "cell_type": "markdown",
      "id": "07fd0620",
      "metadata": {},
      "source": [
        "# Part B/C — Individual Pixels with `getPixel`\n",
        "In these tasks you’ll **read** and **set** pixel components using JES functions.\n",
        "A Python function you’ll be using a lot is `getPixel`.  If you don’t know how to use this function (or any other media function in this course), you can learn about it in the course JES reference sheet which you can find by clicking here (or going to this URL bit.ly/JESFunctions ).  Go to the reference sheet now, under Function Category find Pictures and click on the function named getPixel to get a description of what it does.  Read the description and answer the questions below. \n",
        "\n",
        ":::{attention} B.5–B.6 — Understanding `getPixel`\n",
        "- **B.5** How many inputs does `getPixel` take?\n",
        "- **B.6** What does each input represent?\n",
        ":::\n",
        "\n",
        "\n"
      ]
    },
    {
      "cell_type": "raw",
      "id": "4a5b8d32-f87a-4ac4-93e2-53cdfac5bc92",
      "metadata": {},
      "source": []
    },
    {
      "cell_type": "markdown",
      "id": "59643e45-bd3d-4da3-814c-516462aaecf2",
      "metadata": {},
      "source": [
        "Let’s experiment with changing the color of a single pixel in a given image to a new color.  \n",
        "\n",
        "Start by taking a look at the picture named 640x480.png under Files by clicking on its name.   Pretty boring image, huh? \n",
        "\n",
        ":::{important} Coding Questions\n",
        "\n",
        "Add these lines in the cell below, Run that cell and see the info these commands print about the pixel (0,0)\n",
        "```\n",
        "whitePic = makePicture(\"640x480.png\")\n",
        "TL = getPixel(whitePic, 0, 0 )\n",
        "print (TL)\n",
        "```\n",
        ":::\n",
        "\n",
        "\n",
        "\n",
        "### Notes\n",
        "- Pixel coordinates are **0-based**: top-left is `(0,0)`; top-right is `(width-1, 0)`; bottom-right is `(width-1, height-1)`.\n",
        "- When the prompt says “Press play,” **run the cell** below it."
      ]
    },
    {
      "cell_type": "code",
      "execution_count": 3,
      "id": "008a3fd9",
      "metadata": {
        "trusted": true
      },
      "outputs": [],
      "source": [
        "%pip install siena_mls\n",
        "from JES import *\n",
        "# Test code\n",
        "\n"
      ]
    },
    {
      "cell_type": "markdown",
      "id": "a2d3b5b5",
      "metadata": {},
      "source": [
        ":::{attention} B.7–B.10 — Report\n",
        "- **B.7** Which corner? I.e., top right? top left? bottom left? bottom right??\n",
        "- **B.8** What RGB printed for that corner ?\n",
        ":::\n",
        "\n"
      ]
    },
    {
      "cell_type": "markdown",
      "id": "9153dd06-b15c-42c7-8926-89e56de7f99d",
      "metadata": {},
      "source": [
        ":::{important} set blue to zero\n",
        "\n",
        "modify the coding block earlier to add two more lines \n",
        "```\n",
        "setBlue(TL, 0)\n",
        "print(TL)\n",
        "```\n",
        ":::\n",
        "\n",
        ":::{attention} Report\n",
        "- **B.9** Press play to execute the commands. What are the red, green, and blue color values of pixel TL after the setBlue command executes?\n",
        "- **B.10** Do you know what actual color this red, green and blue combination gives you?  If not, make a guess.  You’ll visually examine it soon and can check if you are correct!\n",
        ":::\n"
      ]
    },
    {
      "cell_type": "raw",
      "id": "279a79df-cfe6-41e6-965f-55c36c233e98",
      "metadata": {},
      "source": [
        "# Code here"
      ]
    },
    {
      "cell_type": "markdown",
      "id": "903767fb-85da-445f-a637-2d1b7f62b0b3",
      "metadata": {},
      "source": [
        "🔄 **Switch roles now.**"
      ]
    },
    {
      "cell_type": "markdown",
      "id": "c6719178-3a2a-44b2-8a02-38e33f691c5e",
      "metadata": {},
      "source": [
        ":::{important} B.11 Change **Top Right**\n",
        "Copy the test code you used earlier to modify the Top Left pixel, and then do the following:\n",
        "\n",
        "- **Task 1** : add additional commands that set the top right pixel of whitePic to the fun and appealing color you selected earlier. Use print to see if the red, green, and blue color values were set correctly. \n",
        "*Hint* - the width of whitePic is 640, but the x coordinate of the rightmost pixel is not 640!\n",
        "\n",
        "🔄 **Switch roles now.**\n",
        "\n",
        "- **Task 2** : Don’t delete any of the commands you already have, but add commands that set the bottom right pixel of whitePic to red. Use print to see if the values were set correctly.\n",
        "\n",
        "- **Task 3** : Add one last command to the bottom of main.py that saves the modified image to a file called `newPic.png`. Note that the file type extension is `.png` rather than `.jpg`. This is important so that you don’t lose any color information due to compression!\n",
        "\n",
        "*Hint* - `writePictureTo(whitePic, \"newPic.png\")`\n"
      ]
    },
    {
      "cell_type": "code",
      "execution_count": 4,
      "id": "df29c635-92c1-440f-9710-d3c50a540d9b",
      "metadata": {
        "trusted": true
      },
      "outputs": [],
      "source": [
        "%pip install siena_mls\n",
        "from JES import *"
      ]
    },
    {
      "cell_type": "markdown",
      "id": "9df9a007",
      "metadata": {},
      "source": [
        ":::{attention} B.11–B.13 — Visual Check\n",
        "1. Download the `newPic.png` file from the files.\n",
        "2. Open redketchup.io/color-picker\n",
        "3. in Section 1(on redketchup), upload the file `newPic.png`.\n",
        "4. In Section 2(on redketchup), zoom in as much as possible and use the scroll bars to find and visually inspect the top left pixel whose color you changed. \n",
        "After zooming into `newPic.png`\n",
        "\n",
        "- **B.12** Visually inspect the `top left` pixel. What color is it?\n",
        "- **B.13** Visually inspect the `top right` pixel. What color is it?\n",
        "- **B.14** Visually inspect the `bottom right` pixel. What color is it?\n",
        ":::\n"
      ]
    },
    {
      "cell_type": "raw",
      "id": "7ac74872-e012-4e95-a132-5f48dd79b62d",
      "metadata": {},
      "source": []
    },
    {
      "cell_type": "markdown",
      "id": "97e2f570",
      "metadata": {},
      "source": [
        "🔄 **Switch roles now.**"
      ]
    },
    {
      "cell_type": "raw",
      "id": "dc585f0e",
      "metadata": {},
      "source": [
        "Driver: ____________    Navigator: ____________"
      ]
    },
    {
      "cell_type": "markdown",
      "id": "8d8d8b81",
      "metadata": {},
      "source": [
        "# Part D - Modifying Pixels within a range using nested loops\n",
        "\n",
        "## D.1 — Examine `mystery`\n",
        "Below is the **image** of the `mystery(pic)` function definition. **Study the code and describe what it does**.\n",
        "\n",
        "> **Important:** We present it **as an image** so you type it manually (don’t copy/paste). This reinforces reading and translating code.\n",
        "![Mystery Function Definition](images/partd-mystery.png)\n",
        "\n",
        "\n",
        ":::{attention} D.2 — Writing\n",
        "In 2–3 sentences, describe what `mystery(pic)` does to the input image. Identify (take a guess!) which pixels change and how.\n",
        ":::\n",
        "\n"
      ]
    },
    {
      "cell_type": "raw",
      "id": "cead8b69-d2c4-4505-99ef-c32c306f56fe",
      "metadata": {},
      "source": []
    },
    {
      "cell_type": "markdown",
      "id": "57720b59-644a-409e-9bfa-765b7200222f",
      "metadata": {},
      "source": [
        "## D.3 Running this function\n",
        "\n",
        "```{tab-set}\n",
        "::::{tab-item} Step 1 — Type `mystery(pic)`\n",
        ":::{important} type in mystery function from the screenshot\n",
        "**Task:** Recreate the `mystery(pic)` function exactly as shown in the image above.  \n",
        "**Where:** Use the code cell below.  \n",
        "**Tip:** Pay attention to loop bounds and channel setters.\n",
        ":::\n",
        "::::\n",
        "\n",
        "::::{tab-item} Step 2 — Run it on eiffel.jpg.\n",
        "\n",
        ":::{important} Run the function.\n",
        "1. Make a picture object from `eiffel.jpg` called `myPic`.\n",
        "2. Call `mystery(myPic)`.\n",
        "3. `show` the `myPic`\n",
        ":::\n",
        "\n",
        "::::\n",
        "\n",
        "```\n"
      ]
    },
    {
      "cell_type": "code",
      "execution_count": null,
      "id": "1fdbb312-c8c6-4692-9074-279470e3fd99",
      "metadata": {
        "trusted": true
      },
      "outputs": [],
      "source": [
        "%pip install siena_mls\n",
        "from JES import *\n",
        "\n",
        "\n",
        "# D.3 — Implement `mystery(pic)` here by **typing** what you see in the image above.\n",
        "# Then add the 3-line test sequence described in the Step 2 tab.\n",
        "\n",
        "# def mystery(pic):\n",
        "#     ...  # TYPE THIS FROM THE IMAGE ABOVE\n",
        "\n",
        "# recollect these?\n",
        "# myPic = makePicture('eiffel.jpg')\n",
        "# mystery(myPic)\n",
        "# writePictureTo(myPic, 'mysteryOutput.jpg')\n",
        "pass\n"
      ]
    },
    {
      "cell_type": "markdown",
      "id": "64e86727-5ce2-4654-8254-a250fb4d3e16",
      "metadata": {},
      "source": [
        ":::{attention} D.4 Inspect & Explain\n",
        "what change did `mystery` make to the image? Use precise terminology (e.g., channel, region, loop bounds)\n",
        ":::"
      ]
    },
    {
      "cell_type": "raw",
      "id": "f4fe9065-cece-4352-8560-f8bc12ab478d",
      "metadata": {},
      "source": []
    },
    {
      "cell_type": "markdown",
      "id": "f74ee263-2b98-4f4d-b8b9-8b97cd31aa93",
      "metadata": {},
      "source": [
        "## D.5 & D.6 — Region-Specific Variants\n",
        "\n",
        "🔄 **Switch roles now.**\n",
        "\n",
        "Now adapt `mystery` into **two** functions:\n",
        "- `topHalfGreen(pic)`: only the **top half** becomes green; bottom half unchanged.\n",
        "- `quad1Yellow(pic)`: only the **top-right quadrant** (Quadrant 1) becomes yellow; other regions unchanged.\n",
        "\n",
        ":::{hint} Hints\n",
        "- For top-half: loop `y` from `0` to `height//2 - 1`.\n",
        "- For top-right quadrant: loop `y` from `0` to `height//2 - 1` and `x` from `width//2` to `width - 1`.\n",
        "- Reuse the same 3‑line testing pattern to show the output of both.\n",
        ":::\n"
      ]
    },
    {
      "cell_type": "code",
      "execution_count": null,
      "id": "f8f0ac6b-f387-4ede-a0bd-a434c04eff80",
      "metadata": {
        "trusted": true
      },
      "outputs": [],
      "source": [
        "%pip install siena_mls\n",
        "from JES import *\n",
        "\n",
        "# D.5 — Implement `topHalfGreen(pic)` and test it on eiffel.jpg\n",
        "def topHalfGreen(pic):\n",
        "    # TODO: change only the TOP half to green\n",
        "    return pic\n",
        "\n",
        "# Example test (uncomment and adjust path as needed):\n",
        "# eiffelPic = makePicture('eiffel.jpg')\n",
        "# topHalfGreen(eiffelPic)\n",
        "# show(eiffelPic)\n",
        "pass\n"
      ]
    },
    {
      "cell_type": "code",
      "execution_count": 7,
      "id": "2a9fa54b-d381-434f-ac4f-4566d2c48ce9",
      "metadata": {
        "trusted": true
      },
      "outputs": [],
      "source": [
        "%pip install siena_mls\n",
        "from JES import *\n",
        "\n",
        "# D.6 — Implement `quad1Yellow(pic)` and test it on eiffel.jpg\n",
        "def quad1Yellow(pic):\n",
        "    # TODO: change only the TOP-RIGHT quadrant to yellow\n",
        "    return pic\n",
        "\n",
        "# Add Test commands !\n",
        "pass\n"
      ]
    },
    {
      "cell_type": "markdown",
      "id": "37b41c46",
      "metadata": {},
      "source": [
        ":::{danger} Checkpoint\n",
        "Show your code and outputs (`mysteryOutput.jpg`, `topHalfGreenOutput.jpg`, `quad1YellowOutput.jpg`) to your instructor.\n",
        ":::\n",
        "\n",
        "\n",
        "🔄 **Switch roles now.**"
      ]
    },
    {
      "cell_type": "raw",
      "id": "0c5aad4b",
      "metadata": {},
      "source": [
        "Driver: ____________    Navigator: ____________"
      ]
    },
    {
      "cell_type": "markdown",
      "id": "3af93201-9042-4433-96b7-dfbc4e720ecc",
      "metadata": {},
      "source": [
        "---"
      ]
    },
    {
      "cell_type": "markdown",
      "id": "21162fed",
      "metadata": {},
      "source": [
        "# Part E — Scaling & Layering\n",
        "\n",
        "```{tab-set}\n",
        "::::{tab-item} E.1 Did it shrink? \n",
        "\n",
        "Now we (that means you) will play (i.e., work) with scaling pictures up and down.  \n",
        "At this time, you and your lab partner should discuss and then choose any picture you like listed under Files or download something from the Internet for this part of the lab.  Ideally, you should choose a picture of a person or animal, for the most entertaining effects later on.\n",
        "\n",
        "In the file shrinkGrow.py under Files you can find two functions grow and shrink that are essentially Programs 82 and 83 from your Python text, generalized to work with any picture.  Let’s test these functions in main.py to see what they do.  (Note that these functions are available for you to use in main.py because the line `from shrinkGrow import *` is at the top\n",
        "\n",
        "You’ll experiment with `shrink(pic)` and `grow(pic)`\n",
        ":::{important} Type this in!\n",
        "\n",
        "![using shrink and grow](images/using_shrink_and_grow.png)\n",
        ":::\n",
        "\n",
        ":::{attention} **E.1** Did it shrink? \n",
        "Press play and when your code runs without errors, look at the resulting image file and the printed widths and heights. By how much did it shrink the width and height of the original picture? \n",
        ":::\n",
        "::::\n",
        "\n",
        "::::{tab-item} E.2 Testing `grow`\n",
        "\n",
        ":::{important} E.2 Test the `grow` function\n",
        "- Modify the test commands at the bottom of main.py to test the grow function instead of the shrink function.\n",
        "- Press play and when your code runs without errors, look at the resulting image file and the printed widths and heights.\n",
        "- By how much did it increase the width and height of the original picture? \n",
        ":::\n",
        "\n",
        "::::\n",
        "````"
      ]
    },
    {
      "cell_type": "code",
      "execution_count": 8,
      "id": "74b53bed-b5b9-4f51-81a4-3f6fd054d70e",
      "metadata": {
        "trusted": true
      },
      "outputs": [],
      "source": [
        "%pip install siena_mls\n",
        "from JES import *\n",
        "from shrinkGrow import *"
      ]
    },
    {
      "cell_type": "markdown",
      "id": "3163f2dc",
      "metadata": {},
      "source": [
        "🔄 **Switch roles now.**"
      ]
    },
    {
      "cell_type": "raw",
      "id": "47fc6e5c",
      "metadata": {},
      "source": [
        "Driver: ____________    Navigator: ____________"
      ]
    },
    {
      "cell_type": "markdown",
      "id": "20d691f9-9f96-441f-a3a4-5fbf919d8133",
      "metadata": {},
      "source": [
        "---"
      ]
    },
    {
      "cell_type": "markdown",
      "id": "0d2ad327-ffd9-4e0f-8bc8-89c8cfffaabb",
      "metadata": {},
      "source": [
        "# Part F - Layering and Scaling\n",
        "\n",
        "````{tab-set}\n",
        "::::{tab-item}  F.1 Layer Function\n",
        "\n",
        "## F.1 Layer Function\n",
        "\n",
        ":::{important} F.1 `layer` function\n",
        "**Your First Layering Task:** Look at the partially done function named `layer`. Finish this function so that for any input picture, it creates a 3-layered image with the scaled-up picture on the bottom, the original picture on top of that, and the scaled-down picture on top of that. An example is shown on the bottomfor the horse image.\n",
        "\n",
        "\n",
        "HINT 1:  The only editing you will do is in the layer function.  \n",
        "\n",
        "HINT 2:  Notice in function layer, variables small and big are initialized to the small and large versions of the input picture.\n",
        "\n",
        "HINT 3:  Use the JES copyInto function.  You can learn about it in the course JES reference sheet which you can find by clicking here and looking for copyInto in the Pictures category.   \n",
        "\n",
        "HINT 4:  Order matters when you are copying the images into other images.\n",
        "\n",
        "![horse_layered](images/horse_layers.png)\n",
        "\n",
        ":::\n",
        "\n",
        ":::{danger} Checkpoint\n",
        "Show the output of the layer function to your instructor\n",
        ":::\n",
        "\n",
        "::::\n",
        "\n",
        "::::{tab-item} F.2 Centered Layers!\n",
        "\n",
        "## F.2 Centered Layers!\n",
        "\n",
        ":::{important} Centered Layers\n",
        "**Your Second Layering Task**: Now that you have the pictures layered at (0,0), modify your code in function layer so that it stacks the three pictures centered on top of each other.  You may need to use math to figure out the coordinates for the copyInto function!\n",
        "\n",
        ":::\n",
        "\n",
        "![](images/horse_centered.png)\n",
        "\n",
        ":::{danger} Checkpoint\n",
        "Show the output of the centered layer function to your instructor\n",
        ":::\n",
        "\n",
        "::::\n",
        "\n",
        "::::{tab-item} F.3 Custom Image \n",
        "\n",
        ":::{important} make sure it works on all images!\n",
        "\n",
        "**Your Third Layering Task** : Is your modified layer function “hardcoded” to work only with your chosen picture, or will it work correctly on any size picture that you give it for input?  \n",
        "\n",
        "If it only works for the chosen picture, modify it so that it works for any size picture.  Test it on multiple images of different sizes.  \n",
        ":::\n",
        "\n",
        ":::{danger} Checkpoint\n",
        "Show the output of the  layer function to your instructor\n",
        ":::\n",
        "\n",
        "::::\n",
        "\n",
        "````"
      ]
    },
    {
      "cell_type": "code",
      "execution_count": 9,
      "id": "d58f973c-7ce1-49d9-89c5-9da6dd8b2e0e",
      "metadata": {
        "trusted": true
      },
      "outputs": [],
      "source": [
        "from JES import *\n",
        "from shrinkGrow import *\n",
        "# Takes a picture, pic, for input &  \n",
        "# forms a new picture consisting of\n",
        "# three different sizes of pic  \n",
        "# layered on top of each other.\n",
        "def layer(pic):\n",
        "    # finish me!\n",
        "    small = shrink(pic)\n",
        "    big = grow(pic)\n",
        "    # add your code here\n",
        "    # you do not need for loops \n",
        "    show(big)\n",
        "    writePictureTo(big, \"layerOutput.jpg\")\n",
        "\n",
        "# Complete the the test code here?\n"
      ]
    },
    {
      "cell_type": "markdown",
      "id": "0f7a66f2-ae1f-44f6-bcad-2a371455bcd0",
      "metadata": {},
      "source": [
        "🔄 **Switch roles now.**"
      ]
    },
    {
      "cell_type": "raw",
      "id": "e5137b5a-6931-4c87-b8e1-0138d00d7a14",
      "metadata": {},
      "source": [
        "Driver: ____________    Navigator: ____________"
      ]
    },
    {
      "cell_type": "markdown",
      "id": "1466d70f",
      "metadata": {},
      "source": [
        "# Part G - Mirroring\n",
        "\n",
        "Several images were included with this lab.  Take a look at them now and decide with your lab partner which one you want to use for mirroring in this part of the lab, or download a new one (that is not too big) from the internet. It should be an image that doesn’t have a lot of vertical or horizontal symmetry.\n",
        "\n",
        ":::{attention} G.1 Image file name?\n",
        "Which image did you select? \n",
        ":::\n",
        "\n",
        "````{tab-set}\n",
        "::::{tab-item} G.2 - Verticle -> Horizontal\n",
        "\n",
        ":::{important} G.2 Test the code \n",
        "1. Type in the following images to test the `mirrorHorizontal` and `mirrorVertical` functions\n",
        "\n",
        "> Notice Vertical is called, then Horizontal\n",
        "\n",
        "![](images/g-1.png)\n",
        "\n",
        "2. Finally `show` the image `myPic` and record which quadrant repeats 4x.\n",
        "\n",
        "::::\n",
        "\n",
        ":::: {tab-item} G.3 - Horizontal → Vertical\n",
        "\n",
        "1. Run horizontal mirror first, then vertical. \n",
        "\n",
        "![](images/g-2.png)\n",
        "\n",
        "2. `show` the image and record which quadrant repeats 4x.\n",
        "::::\n",
        "\n",
        "::::{tab-item} G.4 — Challenge (Bottom-Right ×4)\n",
        "Adjust the implementation (or write a helper) so the final result repeats **bottom-right** in all four quadrants.\n",
        "::::\n",
        "\n",
        "````"
      ]
    },
    {
      "cell_type": "code",
      "execution_count": 10,
      "id": "61672790-3181-4bfd-8534-e7ac63df24cb",
      "metadata": {
        "trusted": true
      },
      "outputs": [],
      "source": [
        "from JES import *\n",
        "from shrinkGrow import *\n",
        "\n",
        "# mirrors the source picture horizontally\n",
        "def mirrorHorizontal(source):\n",
        "  height = getHeight(source)\n",
        "  mirrorPoint = height // 2\n",
        "  for x in range(0, getWidth(source)):\n",
        "    for y in range(0, mirrorPoint):\n",
        "      topPixel = getPixel(source, x, y)\n",
        "      bottomPixel = getPixel(source, x, height - y - 1)\n",
        "      color = getColor(topPixel)\n",
        "      setColor(bottomPixel, color)\n",
        "\n",
        "# mirrors the source picture vertically\n",
        "def mirrorVertical(source):\n",
        "  width = getWidth(source)\n",
        "  mirrorPoint = width // 2\n",
        "  for y in range(0, getHeight(source)):\n",
        "    for x in range(0, mirrorPoint):\n",
        "      leftPixel = getPixel(source, x, y)\n",
        "      rightPixel = getPixel(source, width - x - 1, y)\n",
        "      color = getColor(leftPixel)\n",
        "      setColor(rightPixel, color) \n",
        "\n",
        "\n",
        "# COmplete me"
      ]
    },
    {
      "cell_type": "markdown",
      "id": "eb5274f0",
      "metadata": {},
      "source": [
        ":::{attention} G.2 & G.3 — Report\n",
        "- G.2 & G.3 : Which quadrant repeats 4× in each order? State your observations.\n",
        ":::\n"
      ]
    },
    {
      "cell_type": "raw",
      "id": "783e8d80-fa14-4ac1-bcdf-c7dd5c7a33b9",
      "metadata": {},
      "source": []
    },
    {
      "cell_type": "markdown",
      "id": "15a473d0",
      "metadata": {},
      "source": [
        ":::{danger} Checkpoint\n",
        "Show your mirror outputs to your instructor.\n",
        ":::\n"
      ]
    },
    {
      "cell_type": "markdown",
      "id": "9b9bfb20",
      "metadata": {},
      "source": [
        "🔄 **Switch roles now.**"
      ]
    },
    {
      "cell_type": "raw",
      "id": "e1f59eb6",
      "metadata": {},
      "source": [
        "Driver: ____________    Navigator: ____________"
      ]
    },
    {
      "cell_type": "markdown",
      "id": "222e8abc",
      "metadata": {},
      "source": [
        "---\n"
      ]
    },
    {
      "cell_type": "markdown",
      "id": "2bb17e82",
      "metadata": {},
      "source": [
        "# Part H — Reflections\n",
        "\n",
        "The discussion questions in this section of each lab are meant to make you think critically and creatively about some of the things you did earlier in the lab.  Your answers must be typed and you will be graded on all aspects of your answer (correctness, use of proper terminology, readability, use of complete sentences only, etc.).  In general you are expected to write at least one or two paragraphs in answer to each question.  Your instructor will give you directions on where to type in your responses.\n",
        "\n",
        ":::{attention} Writing\n",
        "1. In 2017, streaming giant Netflix was extorted for $50,000 by a hacker named Dark Overlord, who ended up leaking episodes of “Orange Is the New Black” despite Netflix paying up. The Walt Disney Company found itself in a similar situation when a hacker demanded ransom for a copy of “Pirates of the Caribbean: Dead Men Tell No Tales” that was stolen before the theatrical release date. And HBO’s “Game of Thrones” drove incredible numbers of illegal downloads.\n",
        "\n",
        "Suppose you make your living creating things that can be represented digitally (pictures like those you created today, music, movies, computer programs, books, etc.).  How would you feel if something you spent a year creating were to be made available for illegal download on a piracy site.  Discuss your reactions to this scenario, including your thoughts on whether you think this is a good or bad thing, what you might say to the person who made your work available for free, what you think should happen (if anything), and other aspects of the situation.\n",
        "\n",
        "2. Research the **Y2K bug**: What does Y2K stand for? What caused the issue? How did people/companies prepare? What was the actual impact on and after Jan 1, 2000?\n",
        ":::\n"
      ]
    },
    {
      "cell_type": "raw",
      "id": "9686e4b5-cf05-4ec6-b4da-4a1e5b2d85f7",
      "metadata": {},
      "source": []
    },
    {
      "cell_type": "markdown",
      "id": "d9f51d84",
      "metadata": {},
      "source": [
        "## Bonus — `frameIt`\n",
        "\n",
        "- Write a function named `frameIt` that takes a picture as input and makes a `40` pixel wide yellow frame around it. \n",
        "- That’s a 40 pixel horizontal yellow bar along the top, the bottom, the left and the right side.  \n",
        "- Note that the frame should not increase or decrease the size of the input picture - it should change the pixels along the edges of the picture to yellow.\n",
        "- Your **implementation should use nested for loops**, _one for each side of the frame_.\n",
        "- Modify the test commands to test this new function using the `eiffel.jpg` image (or any image of your choice) and show the resulting image."
      ]
    },
    {
      "cell_type": "code",
      "execution_count": 11,
      "id": "3b31035c",
      "metadata": {
        "trusted": true
      },
      "outputs": [],
      "source": [
        "# Optional bonus: implement frameIt(pic)\n",
        "#     ...\n"
      ]
    }
  ],
  "metadata": {
    "kernelspec": {
      "display_name": "Python (Pyodide)",
      "language": "python",
      "name": "python"
    },
    "language_info": {
      "codemirror_mode": {
        "name": "python",
        "version": 3
      },
      "file_extension": ".py",
      "mimetype": "text/x-python",
      "name": "python",
      "nbconvert_exporter": "python",
      "pygments_lexer": "ipython3",
      "version": "3.8"
    }
  },
  "nbformat": 4,
  "nbformat_minor": 5
}
