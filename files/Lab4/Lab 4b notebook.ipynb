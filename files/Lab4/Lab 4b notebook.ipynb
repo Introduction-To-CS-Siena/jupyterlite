{
  "cells": [
    {
      "cell_type": "markdown",
      "id": "bb0ad317-8209-480b-89ca-623e18cb02ac",
      "metadata": {
        "execution": {
          "iopub.execute_input": "2025-10-14T01:12:17.526Z",
          "iopub.status.busy": "2025-10-14T01:12:17.526Z",
          "iopub.status.idle": "2025-10-14T01:12:17.542Z",
          "shell.execute_reply": "2025-10-14T01:12:17.542Z"
        }
      },
      "source": [
        "# Lab 4b\n",
        "\n",
        "<h1 style=\"text-align:center;\">\n",
        "  <span style=\"color:blue;\">DECISIONS, DECISIONS, DECISIONS</span>\n",
        "</h1>\n",
        "\n",
        "### What You’ll Learn In This Lab:\n",
        "\n",
        "\n",
        "\n",
        "- To create conditional statements in Python\n",
        "- To experiment briefly with color distances and data input in Python\n",
        "\n",
        "\n",
        "### Read  Section 5.1 in the Python textbook\n"
      ]
    },
    {
      "cell_type": "code",
      "execution_count": null,
      "id": "ad2a7a47-f538-4f51-8dae-899169a7c471",
      "metadata": {
        "trusted": true
      },
      "outputs": [],
      "source": [
        "%pip install siena_mls\n",
        "from JES import *"
      ]
    },
    {
      "cell_type": "markdown",
      "id": "c160770b-bcd2-46cf-9020-9199ebf57783",
      "metadata": {},
      "source": [
        "# Getting Started\n",
        "\n",
        "Throughout the lab, you will be asked to write responses to questions.  \n",
        "Please add new cells of type **Raw** for written responses and cells of type **Code** for coding responses.\n",
        "\n",
        "Before starting, decide who in your lab partnership will be the first *driver* and who will be the first *navigator*.\n",
        "\n",
        "During the lab, we’ll remind you to switch roles using the symbol 🔄.\n",
        "\n",
        ":::{important} Coding Questions\n",
        "These require answers written in Python code.  \n",
        "If no \"Code\" cell is provided after the question, please add one.\n",
        ":::\n",
        "\n",
        ":::{attention} Writing Questions\n",
        "These require typed responses.  \n",
        "If no \"Raw\" cell is provided after the question, please add one and type your answer there.\n",
        ":::\n",
        "\n",
        ":::{hint} Save & Download Often\n",
        "- Use the **Save** icon or `Ctrl+S` to save your work frequently.  \n",
        "- Use the **Download** button in the menu bar to save a copy of the notebook to your computer.  \n",
        "- You must submit this downloaded file on Canvas.  \n",
        "- Download a copy after each significant milestone in your work.\n",
        ":::\n",
        "\n",
        "---\n",
        "\n",
        "::::{admonition} Question\n",
        ":class: attention\n",
        "Who is the starting Driver and who is the starting Navigator? \n",
        "::::"
      ]
    },
    {
      "cell_type": "markdown",
      "id": "974c61fc-6a98-41fc-a250-edb0d2ebca7a",
      "metadata": {},
      "source": [
        "# Part A - The `distance` Function\n",
        "\n",
        "on the left under Files click on the picture file `bigben.jpg` and take a look at the image.  To make the rest of this exercise easier, both lab partners should load the Big Ben picture into the RedKetchup image exploring app.  To do this, you will download bigben.jpg from JuiceMind to your computer by hovering over the entry in the file list and then clicking on the three vertical dots. Select the Download option in the menu that appears. You will then see a Downloading file… pop-up.  Once it is done, the file will be in the downloads folder on your computer. \n",
        "\n",
        "Next,  go to the RedKetchup app by clicking on this link redketchup.io/color-picker. At the top of the redKetchup app, drag in the downloaded bigben.jpg or select it using Browse.  Scroll down to Pick Color to see the image.  Refer to Lab 2 for more detailed instructions.\n",
        "\n",
        "Keep this image open in RedKetchup until the end of this lab! \n",
        "\n",
        "\n",
        "In this part of the lab, you’ll be using the JES function distance, which is introduced in your Python book on page 115. We’ll experiment with it now to get familiar with how it works.\n",
        ":::{important} Coding Questions\n",
        "\n",
        "Add these lines in the cell below, Run that cell and see the info these commands print.\n",
        "Press play to print the red, green, and blue components of the four built-in colors red, pink, white, and black and the newly created color midnight. \n",
        "\n",
        "> DO NOT COPY AND PASTE.  Type it in -  One line at a time!\n",
        "```\n",
        "print(red)\n",
        "print(pink)\n",
        "print(white)\n",
        "print(black)\n",
        "midnight = makeColor(20,20,20)\n",
        "print(midnight)\n",
        "```\n",
        ":::\n"
      ]
    },
    {
      "cell_type": "code",
      "execution_count": null,
      "id": "7db51d1d-a3c9-49eb-95f7-58d81f74e275",
      "metadata": {
        "trusted": true
      },
      "outputs": [],
      "source": []
    },
    {
      "cell_type": "markdown",
      "id": "6a23fff1-73a1-4ed3-9245-24e1563d7ea7",
      "metadata": {},
      "source": [
        ":::{attention} What did you expect!\n",
        "\n",
        "White, black and red are what you would expect.  But what are the three color values for pink?\n",
        "\n",
        ":::\n",
        "\n",
        "### THe Distance function\n",
        "\n",
        "The distance function takes two colors for input and computes a value that represents how close the two colors are to each other.  For example, add the following line to the bottom of main.py to print the distance between white and black:    \n",
        "\n",
        "> print( distance( white, black ) )\n",
        "\n"
      ]
    },
    {
      "cell_type": "markdown",
      "id": "7584c8c0-9740-45ee-9eff-df5274b219c9",
      "metadata": {},
      "source": [
        ":::{attention} Edit this cell :) \n",
        "\n",
        "Record the distance between white and black in the chart.  Then finish the chart by modifying the test code so that it prints the distances between the remaining pairs of colors.  Then answer the two questions below.\n",
        "\n",
        ":::\n",
        "| Two colors        | Distance between them |\n",
        "|:------------------|:----------------------|\n",
        "| white and black   |                      |\n",
        "| white and pink    |                      |\n",
        "| black and pink    |                      |\n",
        "| black and midnight|                      |\n"
      ]
    },
    {
      "cell_type": "markdown",
      "id": "ce5b85f5-867e-4b38-969e-749722bdbcdf",
      "metadata": {},
      "source": [
        ":::{attention} smaller and larger distances? \n",
        "1. Based on your experiments with the distance function, what does a smaller distance indicate about the two colors? \n",
        "2. Based on your experiments with the distance function, what does a larger distance indicate about the two colors? \n",
        ":::\n",
        "\n",
        "🔄 **Switch roles now.**"
      ]
    },
    {
      "attachments": {},
      "cell_type": "markdown",
      "id": "567677b9-c7e1-42b0-b6aa-0f73bbce757b",
      "metadata": {},
      "source": [
        "# Part B - Modifying Pixels within a Range\n",
        "\n",
        "## B.1 Use bigbenColors\n",
        "\n",
        ":::{important} B.1 Use bigbenColors\n",
        "Examine the function `bigbenColors` : This function manipulates a portion of the picture `bigben.jpg`... \n",
        "\n",
        "Test this function by `calling it` ... Press play and then examine the output picture file that the function creates.  You should see Big Ben with a very large red rectangle in the middle.  \n",
        "\n",
        ":::\n",
        "\n",
        "> Copy this code for use with B.2 ... B.4 We are going to evolve this :D"
      ]
    },
    {
      "cell_type": "code",
      "execution_count": null,
      "id": "c5e64b6c-0cdb-481b-8161-89cd4a173ca8",
      "metadata": {
        "trusted": true
      },
      "outputs": [],
      "source": [
        "%pip install siena_mls\n",
        "from JES import *\n",
        "\n",
        "# Modifying pixels within a range\n",
        "def bigbenColors():\n",
        "  bbpic = makePicture(\"bigben.jpg\")\n",
        "  \n",
        "  for facex in range(31, 184):\n",
        "    for facey in range(172, 342):\n",
        "      p = getPixel(bbpic, facex, facey)\n",
        "      setColor(p, red)\n",
        "  show(bbpic)"
      ]
    },
    {
      "cell_type": "markdown",
      "id": "de606b17-ebca-4bae-b0da-ff5ffa428800",
      "metadata": {},
      "source": [
        "## B.2 Red Square\n",
        "\n",
        "::::{grid} 2\n",
        "\n",
        ":::{important} B.2 First Task : \n",
        "\n",
        "**Your first task:**  Alter the function bigbenColors() so that just the square containing the clock face is red, as shown here.  \n",
        "\n",
        "It doesn’t have to be perfect, but get it as close as you can. \n",
        "\n",
        "Don’t forget to follow the general programming algorithm:  Modify, Test, then Repeat until it works!  \n",
        "\n",
        "For this first task, you could guess and check until you isolate just the clock face red, or you can use RedKetchup and click on pixels to see their (x,y) coordinates to help you.  \n",
        ":::\n",
        "\n",
        "```{image} images/bbred.png\n",
        ":alt: bigben red image\n",
        ":width: 200px\n",
        ":align: left\n",
        "```\n",
        "\n",
        "\n",
        "::::"
      ]
    },
    {
      "cell_type": "code",
      "execution_count": null,
      "id": "fcd05d95-2caf-46da-87c5-17101b6c2b61",
      "metadata": {
        "trusted": true
      },
      "outputs": [],
      "source": []
    },
    {
      "cell_type": "markdown",
      "id": "e7d6d936-9da3-416c-b3c9-978e4163fa38",
      "metadata": {},
      "source": [
        "## B.3 Make it green! 💸\n",
        "\n",
        ":::::{grid} 2\n",
        "\n",
        ":::{important} B.3 Make it green! 💸\n",
        "**Your second task:** Modify `bigbenColors()` so that only the _white(ish)_ portions of the clock face change color, and make it so that they change to green (in honor of *Siena University!*).  See the picture to the right. Don’t attempt this task until the first task is done and you finish reading this section.\n",
        "\n",
        "For this second task, you will need to use a Python `if` statement and the function distance to select just those pixels whose colors are close to white.  As an example, consider the code fragment below, where px is a pixel object.  The first line gets the whole color (red, green, and blue components) of the pixel px.  The second line gets the distance from px’s color to the color red.  The third line  checks if that distance is less than 165, meaning that px’s color is close to red.  If it is, then it changes the pixel px’s color to black.    \n",
        "\n",
        "```\n",
        "    pxColor = getColor(px)\n",
        "    d = distance(red, pxColor)\n",
        "    if d < 165:\n",
        "```\n",
        "\n",
        "For the Big Ben picture, you may want the distance from the color white to be smaller than 165 for you to consider it to be close enough to white.  You’ll need to experiment.  You might try starting with 50, then adjust it from there! \n",
        ":::\n",
        "\n",
        "```{image} images/bbgreen.png\n",
        ":width: 200px\n",
        ":align: left\n",
        "```\n",
        ":::::\n",
        "\n"
      ]
    },
    {
      "cell_type": "code",
      "execution_count": null,
      "id": "48dba793-75b8-4499-9efd-2f989f3a13e6",
      "metadata": {
        "trusted": true
      },
      "outputs": [],
      "source": []
    },
    {
      "cell_type": "markdown",
      "id": "0231618a-2faa-42d5-926e-87dec59e20c7",
      "metadata": {},
      "source": [
        ":::{danger} Checkpoint\n",
        "Once you’ve turned the clock face green, show your instructor your results.\n",
        ":::\n",
        "\n",
        "\n",
        "🔄 **Switch roles now.**"
      ]
    },
    {
      "cell_type": "markdown",
      "id": "e80097ec-9351-4307-ac11-4c4f3a1ef224",
      "metadata": {},
      "source": [
        "## B.4 Add some ~gold~\n",
        "\n",
        "**One last task with Big Ben before we move on!**  \n",
        "\n",
        "For this one, you want to turn both the white and the gold pixels to green, similar to that shown on the right. Note that “gold” is not a built-in color name in Python, so you will need to create a color to use.  Go to the ‘Pick Color’ section in RedKetchup where you can see the Big Ben image.  Zoom in and click on a gold pixel on the clock face.  Scroll down to the ‘Edit and Convert Color Code’ section in RedKetchup to see the red, green, and blue color components of the gold pixel.  \n",
        "\n",
        "In the function `bigbenColors()`, use the function `makeColor` and the red, green, and blue color components of the gold pixel to create a new color called `gold`. Then you can use `gold` just like you used the built in colors `green` and `red`."
      ]
    },
    {
      "cell_type": "code",
      "execution_count": null,
      "id": "4c2d7915-ab34-4203-b15d-f3f10c3bd45f",
      "metadata": {
        "trusted": true
      },
      "outputs": [],
      "source": []
    },
    {
      "cell_type": "markdown",
      "id": "7956e435-9a32-44e6-a65a-2617c4933d97",
      "metadata": {},
      "source": [
        ":::{danger} Checkpoint\n",
        "nce you’ve turned the white AND the gold portions green, show your instructor the results\n",
        ":::\n"
      ]
    },
    {
      "cell_type": "code",
      "execution_count": null,
      "id": "a714ab63-c367-41d5-af8b-9f40e4e10abe",
      "metadata": {
        "trusted": true
      },
      "outputs": [],
      "source": []
    }
  ],
  "metadata": {
    "kernelspec": {
      "display_name": "Python (Pyodide)",
      "language": "python",
      "name": "python"
    },
    "language_info": {
      "codemirror_mode": {
        "name": "python",
        "version": 3
      },
      "file_extension": ".py",
      "mimetype": "text/x-python",
      "name": "python",
      "nbconvert_exporter": "python",
      "pygments_lexer": "ipython3",
      "version": "3.8"
    },
    "widgets": {
      "application/vnd.jupyter.widget-state+json": {
        "state": {},
        "version_major": 2,
        "version_minor": 0
      }
    }
  },
  "nbformat": 4,
  "nbformat_minor": 5
}
